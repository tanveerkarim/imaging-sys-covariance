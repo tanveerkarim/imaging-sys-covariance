{
 "cells": [
  {
   "cell_type": "code",
   "execution_count": 1,
   "metadata": {},
   "outputs": [],
   "source": [
    "%load_ext autoreload\n",
    "%autoreload 2"
   ]
  },
  {
   "cell_type": "code",
   "execution_count": 3,
   "metadata": {},
   "outputs": [],
   "source": [
    "import numpy as np\n",
    "import pandas as pd\n",
    "import healpy as hp\n",
    "from astropy.io import fits\n",
    "import pyccl as ccl\n",
    "\n",
    "from tqdm import tqdm #for timing\n",
    "\n",
    "import matplotlib.pyplot as plt\n",
    "import seaborn as sns\n",
    "plt.style.use(\"seaborn-notebook\")\n",
    "\n",
    "from IPython.display import HTML\n",
    "from IPython.display import display\n",
    "\n",
    "import sys\n",
    "sys.path.insert(1, '../src/')\n",
    "from lib import *"
   ]
  },
  {
   "cell_type": "markdown",
   "metadata": {},
   "source": [
    "In this notebook, we all the relevant plots.\n",
    "\n",
    "**LIST PLOTS**"
   ]
  },
  {
   "cell_type": "markdown",
   "metadata": {},
   "source": [
    "#### Load saved $\\tilde{C}_{\\ell}$ and use them for comparison"
   ]
  },
  {
   "cell_type": "code",
   "execution_count": 10,
   "metadata": {},
   "outputs": [],
   "source": [
    "#parameters\n",
    "fs = 20\n",
    "fsize = (10, 7)\n",
    "\n",
    "NSIDE = 1024\n",
    "lmin = 100; \n",
    "LMAX = 3 * NSIDE - 1\n",
    "ell = np.arange(0, LMAX, 1)\n",
    "ELL = np.logspace(0, np.log10(NSIDE), 10) #for binning\n",
    "\n",
    "NMOCKS = 1000"
   ]
  },
  {
   "cell_type": "code",
   "execution_count": 11,
   "metadata": {},
   "outputs": [
    {
     "name": "stderr",
     "output_type": "stream",
     "text": [
      "../src/lib.py:171: FutureWarning: Using a non-tuple sequence for multidimensional indexing is deprecated; use `arr[tuple(seq)]` instead of `arr[seq]`. In the future this will be interpreted as an array index, `arr[np.array(seq)]`, which will result either in an error or a different result.\n",
      "  mat_t=mat_r_dr[slc]\n"
     ]
    }
   ],
   "source": [
    "#read in coupling matrix\n",
    "#M = np.load(\"../dat/img-sys-couplingmatrix.npy\")\n",
    "exp_names = np.array(['A', 'B', 'C', 'D', 'E', 'F'])\n",
    "experiments = {}\n",
    "\n",
    "#dict to store values\n",
    "for name in exp_names:\n",
    "    experiments[name] = {}\n",
    "\n",
    "#load cls from memory\n",
    "\n",
    "for key in experiments:\n",
    "    experiments[key]['cls_obs'] = np.load(\"../dat/pCls/1000mocks/pCls_\" + key + \".npy\")\n",
    "    experiments[key]['CLs_obs'] = np.zeros((NMOCKS, ELL.shape[0] - 1))\n",
    "    experiments[key]['pCLs_obs'] = np.zeros((NMOCKS, ELL.shape[0] - 1))\n",
    "    \n",
    "   #read in fsky and nl\n",
    "    experiments[key]['nl'] = np.load(\"../dat/pCls/1000mocks/noise_window_\" +key +\".npy\")\n",
    "    experiments[key]['fsky'] = np.load(\"../dat/pCls/1000mocks/fsky_\" +key +\".npy\")\n",
    "    \n",
    "#calculate pCls\n",
    "for key in ['A', 'B', 'C']:\n",
    "    experiments[key]['pcls_obs'] = (experiments[key]['cls_obs'] * experiments[key]['fsky'][:,np.newaxis]) + \\\n",
    "    experiments[key]['nl'][:,np.newaxis]\n",
    "    \n",
    "for key in ['D', 'E', 'F']:\n",
    "    experiments[key]['pcls_obs'] = (experiments[key]['cls_obs'] + experiments[key]['nl'][:,np.newaxis]) * \\\n",
    "     experiments[key]['fsky'][:,np.newaxis]\n",
    "    \n",
    "#bin power spectrum\n",
    "for key in experiments:\n",
    "    for i in range(NMOCKS):\n",
    "        ELL_mid, experiments[key]['CLs_obs'][i] = bin_mat(ell[:NSIDE], \n",
    "                                                           experiments[key]['cls_obs'][i][:NSIDE],\n",
    "                                                           ELL) #Cls up to NSIDE is good \n",
    "        ELL_mid, experiments[key]['pCLs_obs'][i] = bin_mat(ell[:NSIDE], \n",
    "                                                           experiments[key]['pcls_obs'][i][:NSIDE],\n",
    "                                                           ELL) #Cls up to NSIDE is good "
   ]
  },
  {
   "cell_type": "code",
   "execution_count": 12,
   "metadata": {},
   "outputs": [],
   "source": [
    "#calculate cov matrix and cumulative SN\n",
    "for key in experiments: \n",
    "    experiments[key]['covmat'] = np.cov(experiments[key]['pCLs_obs'].T)\n",
    "    experiments[key]['corrcoeff'] = np.corrcoef(experiments[key]['pCLs_obs'].T)\n",
    "    experiments[key]['SN_cum'] = SN_cum(experiments[key]['covmat'], ELL_mid, \n",
    "                                       experiments[key]['pCLs_obs'].mean(axis = 0), lmax = LMAX,\n",
    "                                       use_hartlap=True, nsim = NMOCKS)\n",
    "    \n",
    "#set colours for models\n",
    "experiments['A']['colour'] = 'black'\n",
    "experiments['B']['colour'] = 'red'\n",
    "experiments['C']['colour'] = 'green'\n",
    "experiments['D']['colour'] = 'black'\n",
    "experiments['E']['colour'] = 'red'\n",
    "experiments['F']['colour'] = 'green'"
   ]
  },
  {
   "cell_type": "code",
   "execution_count": null,
   "metadata": {},
   "outputs": [],
   "source": []
  }
 ],
 "metadata": {
  "kernelspec": {
   "display_name": "Python 3",
   "language": "python",
   "name": "python3"
  },
  "language_info": {
   "codemirror_mode": {
    "name": "ipython",
    "version": 3
   },
   "file_extension": ".py",
   "mimetype": "text/x-python",
   "name": "python",
   "nbconvert_exporter": "python",
   "pygments_lexer": "ipython3",
   "version": "3.8.3"
  }
 },
 "nbformat": 4,
 "nbformat_minor": 4
}
