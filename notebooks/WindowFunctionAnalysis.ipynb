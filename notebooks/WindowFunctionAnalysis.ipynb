{
 "cells": [
  {
   "cell_type": "markdown",
   "metadata": {},
   "source": [
    "# Window Function Analysis\n",
    "\n",
    "In this notebook, we study different issues pertaining to the window function, namely\n",
    "\n",
    "- Estimation of coupling matrix, $M$\n",
    "- Estimation of $\\hat{D_{\\ell}}$ given windows\n",
    "- Comparison of mask and window power spectra\n",
    "- Estimation of Cov$(D_{\\ell}, D_{\\ell'})$"
   ]
  },
  {
   "cell_type": "code",
   "execution_count": 1,
   "metadata": {},
   "outputs": [],
   "source": [
    "#auto load changes \n",
    "%load_ext autoreload\n",
    "%autoreload 2\n",
    "\n",
    "#line profiler\n",
    "%load_ext line_profiler"
   ]
  },
  {
   "cell_type": "code",
   "execution_count": 2,
   "metadata": {},
   "outputs": [],
   "source": [
    "import numpy as np\n",
    "\n",
    "import sys\n",
    "sys.path.insert(1, '../src/')\n",
    "import params as pm\n",
    "from lib import cgll, read_img_map\n",
    "from skylens import *\n",
    "from astropy.cosmology import Planck15 as planck15\n",
    "\n",
    "import seaborn as sns\n",
    "import matplotlib.pyplot as plt\n",
    "plt.style.use(\"ggplot\")"
   ]
  },
  {
   "cell_type": "code",
   "execution_count": 3,
   "metadata": {},
   "outputs": [],
   "source": [
    "#setting up virtual dask cluster for calculations. Adjust memory and threads according to your system.\n",
    "from distributed import LocalCluster\n",
    "from dask.distributed import Client \n",
    "#http://distributed.readthedocs.io/en/latest/_modules/distributed/worker.html\n",
    "c=LocalCluster(n_workers=4,processes=True,memory_limit='150gb',threads_per_worker=1,memory_spill_fraction=.99,\n",
    "               memory_monitor_interval='2000ms')\n",
    "client=Client(c)"
   ]
  },
  {
   "cell_type": "code",
   "execution_count": 4,
   "metadata": {},
   "outputs": [],
   "source": [
    "#Import wigner files\n",
    "wigner_files={}\n",
    "wigner_files[0]= '/home/tkarim/SkyLens/temp/dask_wig3j_l2048_w4096_0_reorder.zarr/'"
   ]
  },
  {
   "cell_type": "markdown",
   "metadata": {},
   "source": [
    "## Estimate coupling matrix, $M$"
   ]
  },
  {
   "cell_type": "markdown",
   "metadata": {},
   "source": [
    "### Define relevant functions that model Legacy Surveys DR8 geometry"
   ]
  },
  {
   "cell_type": "code",
   "execution_count": 46,
   "metadata": {},
   "outputs": [],
   "source": [
    "#define correlation pairs\n",
    "#corr_kk=('kappa', 'kappa')\n",
    "corr_gg=('galaxy','galaxy')\n",
    "#corr_kg=('kappa', 'galaxy')\n",
    "\n",
    "corrs = [corr_gg]\n",
    "#spin factors for different correlations.\n",
    "s1_s2s={}\n",
    "s1_s2s[corr_gg]=(0,0)\n",
    "#s1_s2s[corr_kk]=(0,0)\n",
    "#s1_s2s[corr_kg]=(0,0)\n",
    "\n",
    "#plot labels for different correlations\n",
    "corr_labels={corr:{} for corr in s1_s2s.keys()}\n",
    "corr_labels[corr_gg][(0,0)]=r'$gg$'\n",
    "#corr_labels[corr_kk][(0,0)]=r'$\\kappa \\kappa$'\n",
    "#corr_labels[corr_kg][(0,0)]=r'$\\kappa g$'\n",
    "\n",
    "#arguments to append to filenames for different correlations\n",
    "corr_fnames={corr:{} for corr in s1_s2s.keys()}\n",
    "corr_fnames[corr_gg][(0,0)]='gg'\n",
    "#corr_fnames[corr_kk][(0,0)]='kk'\n",
    "#corr_fnames[corr_kg][(0,0)]='kg'\n",
    "\n",
    "#do not compute non-gaussian covariance.\n",
    "SSV_cov=False\n",
    "tidal_SSV_cov=False\n",
    "Tri_cov=False\n",
    "\n",
    "sparse_cov=True\n",
    "\n",
    "#USE CORRECT FSKY\n",
    "f_sky= pm.fsky\n",
    "\n",
    "nz_PS=100\n",
    "\n",
    "store_win=True\n",
    "\n",
    "bi=(0,0) #tracer bin indices for cross correlations. always zero because we only use 1 tomographic bin.\n",
    "\n",
    "def corr_matrix(cov_mat=[]): #correlation matrix\n",
    "    diag=np.diag(cov_mat)\n",
    "    return cov_mat/np.sqrt(np.outer(diag,diag))"
   ]
  },
  {
   "cell_type": "code",
   "execution_count": 6,
   "metadata": {},
   "outputs": [],
   "source": [
    "#setup Skylens args\n",
    "do_cov=False # if you want to get covariance. Covariance is slow and this should be false if you are calling skylens inside mcmc.\n",
    "bin_cl=True #bin the theory and covaraince. \n",
    "\n",
    "use_window=False #if you want to include the window effect. Code will return pseudo-cl and pseudo-cl covariance\n",
    "store_win=True # to store window, for some internal reasons. leave it to true.\n",
    "\n",
    "\n",
    "use_binned_l=False  #FIXME: to speed up computation if using pseudo-cl inside mcmc. Needs to be tested. Leave it false for now.\n",
    "\n",
    "SSV_cov=False # we donot have good model for super sample and tri-spectrum. We can chat about implementing some approximate analytical forms.\n",
    "tidal_SSV_cov=False\n",
    "Tri_cov=False \n",
    "\n",
    "bin_xi=True\n",
    "\n",
    "#setup Skylens parameters\n",
    "\n",
    "test = False\n",
    "\n",
    "if test:\n",
    "    NSIDE = 256\n",
    "    lmax_cl = 3 * NSIDE\n",
    "    binsize = 10\n",
    "else:\n",
    "    NSIDE = pm.NSIDE\n",
    "    lmax_cl = 2 * NSIDE\n",
    "    binsize = 100\n",
    "\n",
    "lmin_cl=0\n",
    "l0=np.arange(lmin_cl,lmax_cl)\n",
    "\n",
    "#following defines the ell bins. Using log bins in example, feel free to change.\n",
    "lmin_cl_Bins=100\n",
    "lmax_cl_Bins=lmax_cl-10\n",
    "Nl_bins=20\n",
    "#l_bins=np.int64(np.logspace(np.log10(lmin_cl_Bins),np.log10(lmax_cl_Bins),Nl_bins))\n",
    "l_bins = np.arange(lmin_cl, lmax_cl, binsize)\n",
    "#lb=np.sqrt(l_bins[1:]*l_bins[:-1])\n",
    "lb=0.5*(l_bins[1:]+l_bins[:-1])\n",
    "\n",
    "l=l0\n",
    "# l=np.unique(np.int64(np.logspace(np.log10(lmin_cl),np.log10(lmax_cl),Nl_bins*20))) #if computation is too heavy and we want to use fewer ell\n",
    "window_lmax=2*lmax_cl #smaller value for testing. This should be 2X ell_max in the measurements."
   ]
  },
  {
   "cell_type": "code",
   "execution_count": 8,
   "metadata": {},
   "outputs": [],
   "source": [
    "def set_window_here(ztomo_bins_dict={}, nside=1024, mask = None, unit_win=False, cmb=False):\n",
    "    \"\"\"\n",
    "        This function sets the window functions for the datasets. \n",
    "        These windows are necessary for converting cl to pseudo-cl.\n",
    "    \"\"\"\n",
    "    #FIXME: make sure nside, etc. are properly matched. if possible, use same nside for cmb and galaxy maps. Use ud_grade where necessary.\n",
    "    for i in np.arange(ztomo_bins_dict['n_bins']):\n",
    "        if unit_win:\n",
    "            cl_map=hp.ma(np.ones(12*nside*nside))\n",
    "            cl_i=1\n",
    "        elif cmb:\n",
    "            #cl_map=np.load('/mnt/store1/tkarim/mask_2048.fits') #FIXME: add the CMB lensing window here.\n",
    "            #window_map=np.load(\"/mnt/store1/boryanah/AbacusSummit_base_c000_ph006/light_cones/mask_edges_ring_2048.npy\")\n",
    "            #window_map=np.load(\"/home/tkarim/imaging-sys-covariance/dat/windows/Favg/Favg_map_unpickled.npy\")\n",
    "            #window_map = window_map.astype(np.float64)\n",
    "            #window_map_noise = window_map\n",
    "            #mask = cl_map\n",
    "            print(\"cmb\")\n",
    "        else:\n",
    "            window_map=np.load(\"/home/tkarim/imaging-sys-covariance/dat/windows/Favg/Favg_map_unpickled.npy\") #randoms are the window function.\n",
    "            #window_map=np.load(\"/mnt/store1/boryanah/AbacusSummit_base_c000_ph006/light_cones/mask_edges_ring_2048.npy\") #randoms are the window function.\n",
    "            window_map = window_map.astype(np.float64)\n",
    "            window_map_noise = np.sqrt(window_map)\n",
    "        \n",
    "        if mask is None:\n",
    "            mask=window_map>0 #FIXME: input proper mask if possible\n",
    "        window_map[window_map<0]=0 #numerical issues can make this happen\n",
    "        window_map/=window_map[mask].mean() #normalize window to 1\n",
    "        window_map[~mask]=hp.UNSEEN\n",
    "        window_map_noise[~mask]=hp.UNSEEN\n",
    "        \n",
    "        ztomo_bins_dict[i]['window']=window_map\n",
    "        ztomo_bins_dict[i]['window_N']=window_map_noise #window of noise \n",
    "\n",
    "    return ztomo_bins_dict\n",
    "\n",
    "def zbin_pz_norm(ztomo_bins_dict={},tomo_bin_indx=None,zbin_centre=None,p_zspec=None,ns=0,bg1=1,\n",
    "                 mag_fact=0,k_max=0.3):\n",
    "    \"\"\"\n",
    "        This function does few pre-calculations and sets some parameters for datasets that \n",
    "        will be input into skylens.\n",
    "    \"\"\"\n",
    "\n",
    "    dzspec=np.gradient(zbin_centre) if len(zbin_centre)>1 else 1 #spec bin width\n",
    "\n",
    "    if np.sum(p_zspec*dzspec)!=0:\n",
    "        p_zspec=p_zspec/np.sum(p_zspec*dzspec) #normalize histogram\n",
    "    else:\n",
    "        p_zspec*=0\n",
    "    nz=dzspec*p_zspec*ns\n",
    "\n",
    "    i=tomo_bin_indx\n",
    "    x= p_zspec>-1 #1.e-10; incase we have absurd p(z) values\n",
    "\n",
    "    ztomo_bins_dict[i]['z']=zbin_centre[x]\n",
    "    ztomo_bins_dict[i]['dz']=np.gradient(zbin_centre[x]) if len(zbin_centre[x])>1 else 1\n",
    "    ztomo_bins_dict[i]['nz']=nz[x]\n",
    "    ztomo_bins_dict[i]['ns']=ns\n",
    "    ztomo_bins_dict[i]['W']=1. #redshift dependent weight\n",
    "    ztomo_bins_dict[i]['pz']=p_zspec[x]*ztomo_bins_dict[i]['W']\n",
    "    ztomo_bins_dict[i]['pzdz']=ztomo_bins_dict[i]['pz']*ztomo_bins_dict[i]['dz']\n",
    "    ztomo_bins_dict[i]['Norm']=np.sum(ztomo_bins_dict[i]['pzdz'])\n",
    "    ztomo_bins_dict[i]['b1']=bg1 # FIXME: this is the linear galaxy bias. Input proper values. We can also talk about adding other bias models if needed.\n",
    "    ztomo_bins_dict[i]['bz1'] = None #array; set b1 to None if passing redz dependent bias \n",
    "    ztomo_bins_dict[i]['AI']=0. # this will be zero for our project\n",
    "    ztomo_bins_dict[i]['AI_z']=0. # this will be zero for our project\n",
    "    ztomo_bins_dict[i]['mag_fact']=mag_fact  #FIXME: You need to figure out the magnification bias prefactor. For example, see appendix B of https://arxiv.org/pdf/1803.08915.pdf\n",
    "    ztomo_bins_dict[i]['shear_m_bias'] = 1.  #\n",
    "    \n",
    "    #convert k to ell\n",
    "    zm=np.sum(ztomo_bins_dict[i]['z']*ztomo_bins_dict[i]['pzdz'])/ztomo_bins_dict[i]['Norm']\n",
    "    ztomo_bins_dict[i]['lm']=k_max*cosmo_h.comoving_transverse_distance(zm).value \n",
    "    return ztomo_bins_dict\n",
    "\n",
    "def source_tomo_bins(zphoto_bin_centre=None,p_zphoto=None,ntomo_bins=None,ns=26,\n",
    "                     zspec_bin_centre=None,n_zspec=100,ztomo_bins=None,\n",
    "                     f_sky=0.3,nside=256,use_window=False,\n",
    "                    bg1=1,l=None,mag_fact=0,\n",
    "                    k_max=0.3,use_shot_noise=True,**kwargs):\n",
    "    \"\"\"\n",
    "        Setting galaxy redshift bins in the format used in skylens code.\n",
    "        Need\n",
    "        zbin_centre (array): redshift bins for every source bin. if z_bins is none, then dictionary with\n",
    "                    with values for each bin\n",
    "        p_zs: redshift distribution. same format as zbin_centre\n",
    "        z_bins: if zbin_centre and p_zs are for whole survey, then bins to divide the sample. If\n",
    "                tomography is based on lens redshift, then this arrays contains those redshifts.\n",
    "        n_gal: number density for shot noise calculation\n",
    "        n_zspec : number of histogram bins in spectroscopic dndz (if zspec_bin_centre is not passed)\n",
    "        ztomo_bins : edges of tomographic bins in photometric redshift (assign galaxies to tomo bins using photz)\n",
    "                    e.g. [0.6, 1., 1.6]\n",
    "        k_max : cut in k-space; CHECK FOR BUG\n",
    "    \"\"\"\n",
    "    ztomo_bins_dict={} #dictionary of tomographic bins\n",
    "\n",
    "    if ntomo_bins is None:\n",
    "        ntomo_bins=1\n",
    "\n",
    "    if ztomo_bins is None:\n",
    "        ztomo_bins=np.linspace(min(zphoto_bin_centre)-0.0001,max(zphoto_bin_centre)+0.0001,ntomo_bins+1)\n",
    "    if zspec_bin_centre is None: #histogram of dndz; defines bin centres\n",
    "        zspec_bin_centre=np.linspace(0,max(ztomo_bins)+1,n_zspec)\n",
    "    dzspec=np.gradient(zspec_bin_centre)\n",
    "    dzphoto=np.gradient(zphoto_bin_centre) if len(zphoto_bin_centre)>1 else [1]\n",
    "    zphoto_bin_centre=np.array(zphoto_bin_centre)\n",
    "\n",
    "    #zl_kernel=np.linspace(0,max(zbin_centre),50) #galaxy position kernel; identical to b*dndz\n",
    "    #lu=Tracer_utils() \n",
    "    #cosmo_h=cosmo_h_PL #cosmology parameters in astropy convention; default is Skylens default\n",
    "\n",
    "    zmax=max(ztomo_bins)\n",
    "\n",
    "    l=[1] if l is None else l\n",
    "    ztomo_bins_dict['SN']={} #shot noise dict\n",
    "    ztomo_bins_dict['SN']['galaxy']=np.zeros((len(l),ntomo_bins,ntomo_bins)) # ell X no. of tomo bins X no. of tomo bins \n",
    "    ztomo_bins_dict['SN']['kappa']=np.zeros((len(l),ntomo_bins,ntomo_bins))\n",
    "\n",
    "    for i in np.arange(ntomo_bins):\n",
    "        ztomo_bins_dict[i]={}\n",
    "        indx=zphoto_bin_centre.searchsorted(ztomo_bins[i:i+2]) #find bins that belong to this photometric bin\n",
    "\n",
    "        if indx[0]==indx[1]: #if only one bin\n",
    "            indx[1]=-1\n",
    "        zbin_centre=zphoto_bin_centre[indx[0]:indx[1]]\n",
    "        p_zspec=p_zphoto[indx[0]:indx[1]] #assuming spectroscopic and photometric dndz are same; CHANGE IF NOT \n",
    "        nz=ns*p_zspec*dzphoto[indx[0]:indx[1]]\n",
    "        ns_i=nz.sum()\n",
    "\n",
    "        ztomo_bins_dict = zbin_pz_norm(ztomo_bins_dict=ztomo_bins_dict, tomo_bin_indx=i, \n",
    "                                       zbin_centre=zbin_centre,\n",
    "                                       p_zspec=p_zspec,ns=ns_i,bg1=bg1, mag_fact=mag_fact,k_max=k_max)\n",
    "        \n",
    "        zmax=max([zmax,max(ztomo_bins_dict[i]['z'])])\n",
    "        if use_shot_noise:\n",
    "            ztomo_bins_dict['SN']['galaxy'][:,i,i]=galaxy_shot_noise_calc(zg1=ztomo_bins_dict[i],\n",
    "                                                                  zg2=ztomo_bins_dict[i])\n",
    "            #the following is set in the CMB lensing bin\n",
    "            #zs_bins['SN']['kappa'][:,i,i]=shear_shape_noise_calc(zs1=zs_bins[i],zs2=zs_bins[i],\n",
    "            #                                                     sigma_gamma=sigma_gamma) #FIXME: This is almost certainly not correct\n",
    "\n",
    "    ztomo_bins_dict['n_bins']=ntomo_bins #easy to remember the counts\n",
    "    #ztomo_bins_dict['z_lens_kernel']=zl_kernel\n",
    "    ztomo_bins_dict['zmax']=zmax\n",
    "    ztomo_bins_dict['zp']=zphoto_bin_centre\n",
    "    ztomo_bins_dict['pz']=p_zphoto\n",
    "    ztomo_bins_dict['z_bins']=ztomo_bins\n",
    "    \n",
    "    if use_window:\n",
    "        ztomo_bins_dict=set_window_here(ztomo_bins_dict=ztomo_bins_dict,nside=nside, unit_win=False)\n",
    "    return ztomo_bins_dict\n",
    "\n",
    "def DESI_elg_bins(ntomo_bins=1, f_sky=0.3,nside=256,use_window=True, bg1=1, \n",
    "                       l=None, mag_fact=0,ztomo_bins=None,**kwargs):\n",
    "\n",
    "    home='/home/tkarim/'\n",
    "    fname='nz_blanc+abacus.txt'\n",
    "#     t=np.genfromtxt(home+fname,names=True,skip_header=3)\n",
    "    #t=np.genfromtxt(home+fname,names=True)\n",
    "    t = pd.read_csv(home + fname)\n",
    "    dz=t['Redshift_mid'][2]-t['Redshift_mid'][1]\n",
    "    zmax=max(t['Redshift_mid'])+dz/2\n",
    "    zmin=min(t['Redshift_mid'])-dz/2\n",
    "\n",
    "    z=t['Redshift_mid']\n",
    "    \n",
    "    pz=t['dndz/deg^2']\n",
    "    \n",
    "    ns=np.sum(pz)\n",
    "    d2r = 180/np.pi\n",
    "    ns/=d2r**2 #convert from deg**2 to rd**2\n",
    "\n",
    "    if ztomo_bins is None: #this defines the bin edges if splitting the sample into bins. Preferably pass it as an argument whenusing multiple bins.\n",
    "        ztomo_bins=np.linspace(zmin, min(2,zmax), ntomo_bins+1) #define based on experiment\n",
    "    print(zmin,zmax,ztomo_bins,ns)\n",
    "    return source_tomo_bins(zphoto_bin_centre=z, p_zphoto=pz, ns=ns, ntomo_bins = ntomo_bins,\n",
    "                            mag_fact=mag_fact, ztomo_bins=ztomo_bins,f_sky=f_sky,nside=nside,\n",
    "                            use_window=use_window,bg1=bg1, l=l,**kwargs)"
   ]
  },
  {
   "cell_type": "code",
   "execution_count": 9,
   "metadata": {},
   "outputs": [],
   "source": [
    "def SkyLens_cls(nside, bg1, fsky, zmin = 0.1, zmax = 2.45104189964307, nowin = False, Win = None):\n",
    "    \"\"\"Returns Skylens Cls based on given maps.\n",
    "    \n",
    "    Inputs:\n",
    "        nside (int) : nside for healpy\n",
    "        bg1 (float) : linear bias term for galaxies\n",
    "        fsky (float) : fsky of the map to be used \n",
    "        zmin (float) : min redshift for CMB lensing kernel\n",
    "        zmax (float) : max redshift for CMB lensing kernel\n",
    "        nowin (bool) : whether to calculate Cls without window\n",
    "        Win (dict) : optional dict; pass saved window calculated before\n",
    "        \n",
    "    Returns:\n",
    "        results (dict) : Skylens dict containing Cls, pCls, coupling matrices\n",
    "    \"\"\"\n",
    "    \n",
    "    results = {}\n",
    "    \n",
    "    #tomographed redshift bins for the galaxies\n",
    "    #zl_bin=DESI_elg_bins(l=l, f_sky = fsky, nside = NSIDE, bg1 = bg1) #originally l = None\n",
    "    zl_bin=DESI_elg_bins(l=l, f_sky = fsky, nside = NSIDE, bg1 = bg1)\n",
    "    \n",
    "    #names of maps\n",
    "    #corrs=[corr_kk, corr_gg, corr_gk]\n",
    "    corrs=[corr_gg]\n",
    "    \n",
    "    z_PS=np.linspace(zmin, zmax, 100) #redshifts where P(k) will be evaluated\n",
    "    \n",
    "    if Win is not None:\n",
    "        kappa0=Skylens(do_cov=do_cov,bin_cl=bin_cl,l_bins=l_bins,l=l0, galaxy_zbins=zl_bin,\n",
    "                                       use_window=use_window,Tri_cov=Tri_cov, Win = Win,\n",
    "                                       use_binned_l=use_binned_l,wigner_files=wigner_files,\n",
    "                                       SSV_cov=SSV_cov,tidal_SSV_cov=tidal_SSV_cov,f_sky=fsky,\n",
    "                                       store_win=store_win,window_lmax=window_lmax,\n",
    "                                       corrs=corrs, scheduler_info=client.scheduler_info(), log_z_PS=1,\n",
    "                                       cosmo_params = cosmo_params, z_PS=z_PS)\n",
    "        \n",
    "    else:\n",
    "        kappa0=Skylens(do_cov=do_cov,bin_cl=bin_cl,l_bins=l_bins,l=l0, galaxy_zbins=zl_bin,\n",
    "                                       use_window=use_window,Tri_cov=Tri_cov, #Win = Win,\n",
    "                                       use_binned_l=use_binned_l,wigner_files=wigner_files,\n",
    "                                       SSV_cov=SSV_cov,tidal_SSV_cov=tidal_SSV_cov,f_sky=fsky,\n",
    "                                       store_win=store_win,window_lmax=window_lmax,\n",
    "                                       corrs=corrs, scheduler_info=client.scheduler_info(), log_z_PS=1,\n",
    "                                        #z_PS=z_PS)\n",
    "                       cosmo_params = cosmo_params, z_PS=z_PS)\n",
    "    results['kappa0'] = kappa0\n",
    "    \n",
    "    if(nowin):\n",
    "        kappa0_nowin=Skylens(do_cov=False,bin_cl=False,l_bins=None,l=l0_nowin, \n",
    "                     galaxy_zbins=zl_bin,\n",
    "                                       use_window=False,Tri_cov=Tri_cov, #Win = Win,\n",
    "                                       use_binned_l=use_binned_l,wigner_files=wigner_files,\n",
    "                                       SSV_cov=SSV_cov,tidal_SSV_cov=tidal_SSV_cov,f_sky=fsky,\n",
    "                                       store_win=store_win,window_lmax=window_lmax,\n",
    "                                       corrs=corrs, scheduler_info=client.scheduler_info(), log_z_PS=1,\n",
    "                                        #z_PS=z_PS)\n",
    "                             cosmo_params = cosmo_params, z_PS=z_PS)\n",
    "        results['kappa0_nowin'] = kappa0_nowin\n",
    "    \n",
    "    return results"
   ]
  },
  {
   "cell_type": "markdown",
   "metadata": {},
   "source": [
    "### Define cosmology"
   ]
  },
  {
   "cell_type": "code",
   "execution_count": 7,
   "metadata": {},
   "outputs": [],
   "source": [
    "cosmo_params=dict({'h':planck15.h,\n",
    "                   'Omb':planck15.Ob0,\n",
    "                   'Omd':planck15.Om0-planck15.Ob0,\n",
    "                   'Om':planck15.Om0,\n",
    "                   's8':0.817,\n",
    "                   'Ase9':2.2,\n",
    "                   'mnu':planck15.m_nu[-1].value,\n",
    "                   'Omk':planck15.Ok0,\n",
    "                   'tau':0.06,\n",
    "                   'ns':0.965,\n",
    "                   'OmR':planck15.Ogamma0+planck15.Onu0,\n",
    "                   'w':-1,\n",
    "                   'wa':0,\n",
    "                   'T_cmb':planck15.Tcmb0,\n",
    "                   'Neff':planck15.Neff,\n",
    "                   'z_max':2.45,\n",
    "                   'use_astropy':True})"
   ]
  },
  {
   "cell_type": "markdown",
   "metadata": {},
   "source": [
    "### Run Skylens via dask"
   ]
  },
  {
   "cell_type": "code",
   "execution_count": 10,
   "metadata": {},
   "outputs": [
    {
     "data": {
      "text/html": [
       "<table style=\"border: 2px solid white;\">\n",
       "<tr>\n",
       "<td style=\"vertical-align: top; border: 0px solid white\">\n",
       "<h3 style=\"text-align: left;\">Client</h3>\n",
       "<ul style=\"text-align: left; list-style: none; margin: 0; padding: 0;\">\n",
       "  <li><b>Scheduler: </b>tcp://127.0.0.1:42403</li>\n",
       "  <li><b>Dashboard: </b><a href='http://127.0.0.1:8787/status' target='_blank'>http://127.0.0.1:8787/status</a></li>\n",
       "</ul>\n",
       "</td>\n",
       "<td style=\"vertical-align: top; border: 0px solid white\">\n",
       "<h3 style=\"text-align: left;\">Cluster</h3>\n",
       "<ul style=\"text-align: left; list-style:none; margin: 0; padding: 0;\">\n",
       "  <li><b>Workers: </b>4</li>\n",
       "  <li><b>Cores: </b>4</li>\n",
       "  <li><b>Memory: </b>600.00 GB</li>\n",
       "</ul>\n",
       "</td>\n",
       "</tr>\n",
       "</table>"
      ],
      "text/plain": [
       "<Client: 'tcp://127.0.0.1:42403' processes=4 threads=4, memory=600.00 GB>"
      ]
     },
     "execution_count": 10,
     "metadata": {},
     "output_type": "execute_result"
    }
   ],
   "source": [
    "client"
   ]
  },
  {
   "cell_type": "code",
   "execution_count": 11,
   "metadata": {},
   "outputs": [
    {
     "name": "stdout",
     "output_type": "stream",
     "text": [
      "0.41250000000000003 1.4374999999999996 [0.4125 1.4375] 4.570437260729055\n",
      "Tracer utils has tracers:  ['galaxy']\n",
      "pk_params dict was none, intialized with default\n",
      "{'h': 0.6774, 'Omb': 0.0486, 'Omd': 0.2589, 'Om': 0.3075, 's8': 0.817, 'Ase9': 2.2, 'mnu': 0.06, 'Omk': 0.0, 'tau': 0.06, 'ns': 0.965, 'OmR': 0.0014901684738813567, 'w': -1, 'wa': 0, 'T_cmb': <Quantity 2.7255 K>, 'Neff': 3.046, 'z_max': 2.45, 'use_astropy': True}\n",
      "power spectra class_pk\n",
      "Win gen: step size 4 2048 4097.0 4\n",
      "Window done. Size: 0.0\n",
      "CPU times: user 6.26 s, sys: 888 ms, total: 7.15 s\n",
      "Wall time: 6.7 s\n"
     ]
    },
    {
     "name": "stderr",
     "output_type": "stream",
     "text": [
      "/home/tkarim/anaconda3/lib/python3.8/site-packages/skylens-0.1-py3.8.egg/skylens/cov_utils.py:92: RuntimeWarning: invalid value encountered in true_divide\n",
      "/home/tkarim/anaconda3/lib/python3.8/site-packages/skylens-0.1-py3.8.egg/skylens/angular_power_spectra.py:23: RuntimeWarning: divide by zero encountered in true_divide\n"
     ]
    }
   ],
   "source": [
    "zlow = 0.1\n",
    "zhigh = 2.45104189964307\n",
    "\n",
    "%time results = SkyLens_cls(nside = pm.NSIDE, bg1 = pm.b1, \\\n",
    "                            fsky = pm.fsky, \\\n",
    "                            zmin = zlow, zmax = zhigh, \\\n",
    "                            nowin = False)"
   ]
  },
  {
   "cell_type": "code",
   "execution_count": 12,
   "metadata": {},
   "outputs": [
    {
     "name": "stdout",
     "output_type": "stream",
     "text": [
      "scatter_dict got empty dictionary\n",
      "cl graph done\n",
      "gather_dict got empty dictionary\n",
      "CPU times: user 21.9 s, sys: 1.21 s, total: 23.1 s\n",
      "Wall time: 20.7 s\n"
     ]
    }
   ],
   "source": [
    "%time cl0G=results['kappa0'].cl_tomo() "
   ]
  },
  {
   "cell_type": "code",
   "execution_count": 13,
   "metadata": {},
   "outputs": [
    {
     "name": "stdout",
     "output_type": "stream",
     "text": [
      "Win gen: step size 100 2048 4097.0 10\n",
      "wigner_files: {0: '/home/tkarim/SkyLens/temp/dask_wig3j_l2048_w4096_0_reorder.zarr/'}\n",
      "wigner done dict_keys([])\n"
     ]
    }
   ],
   "source": [
    "#read in wigner-3j matrices.\n",
    "l_cl=results['kappa0'].l\n",
    "window_l=results['kappa0'].window_l\n",
    "wu=window_utils(l=l_cl,window_l=window_l,use_window=True,s1_s2s={corr_gg:s1_s2s[corr_gg]},\n",
    "                corrs=corrs,wigner_step=100,wigner_files=wigner_files)\n",
    "wu.set_wig3j()"
   ]
  },
  {
   "cell_type": "code",
   "execution_count": 14,
   "metadata": {},
   "outputs": [],
   "source": [
    "Cl0=client.compute(cl0G['cl'][corr_gg][bi]).result() #we use same C_ell correlation as window C_l to compute M^W"
   ]
  },
  {
   "cell_type": "markdown",
   "metadata": {},
   "source": [
    "Save $C_{\\ell}^{\\rm th}$ to pass to `src/pCl.py` to generate mocks"
   ]
  },
  {
   "cell_type": "code",
   "execution_count": 15,
   "metadata": {},
   "outputs": [],
   "source": [
    "np.save('../dat/cosmology_ini/gaussian_mocks/cl_th.npy', Cl0, allow_pickle=False)"
   ]
  },
  {
   "cell_type": "markdown",
   "metadata": {},
   "source": [
    "Calculate coupling matrix\n",
    "\n",
    "Note, for a given survey geometry, $M$ is unique."
   ]
  },
  {
   "cell_type": "code",
   "execution_count": 16,
   "metadata": {},
   "outputs": [
    {
     "name": "stdout",
     "output_type": "stream",
     "text": [
      "0 done\n",
      "100 done\n",
      "200 done\n",
      "300 done\n",
      "400 done\n",
      "500 done\n",
      "600 done\n",
      "700 done\n",
      "800 done\n",
      "900 done\n",
      "1000 done\n",
      "1100 done\n",
      "1200 done\n",
      "1300 done\n",
      "1400 done\n",
      "1500 done\n",
      "1600 done\n",
      "1700 done\n",
      "1800 done\n",
      "1900 done\n",
      "2000 done\n"
     ]
    }
   ],
   "source": [
    "#BETTER TO CORRECT p-CL WITH NOISE RATHER CALCULATING COUPLING MATRIX OF NOISE\n",
    "#BECAUSE NOISE IS FLAT SO L, L' ASSUMPTION IS NO LONGER TRUE\n",
    "\n",
    "#THIS IS C5 IN THE PAPER\n",
    "\n",
    "M_lm={} #coupling submatrix \n",
    "#MN_lm={}\n",
    "\n",
    "nl=len(wu.l) #number of l\n",
    "nlw=len(wu.window_l)\n",
    "nl_cl=len(wu.l)\n",
    "\n",
    "M=np.zeros((nl,nlw)) #full coupling matrix\n",
    "#M_N=np.zeros((nl,nlw))\n",
    "\n",
    "for lm in wu.lms:\n",
    "    wj2i=client.compute(wu.wig_3j_2[lm]).result()\n",
    "    wj2i=wj2i['00']\n",
    "    wj2i=wj2i.transpose(0,2,1)\n",
    "    start_i=lm\n",
    "    end_i=lm+wu.step\n",
    "    M_lm[lm]=wj2i@(Cl0*(2*l0+1))\n",
    "    M[start_i:end_i,:]+=M_lm[lm]\n",
    "    del M_lm[lm]\n",
    "    #MN_lm[lm]=wj2i@(np.ones_like(win_Cl)*(2*l0+1))\n",
    "    #M_N[start_i:end_i,:]+=MN_lm[lm]\n",
    "\n",
    "    print(lm,'done')\n",
    "M/=4.*np.pi\n",
    "M*=(2*wu.window_l+1)\n",
    "#M_N/=4.*np.pi\n",
    "#M_N*=(2*wu.window_l+1)"
   ]
  },
  {
   "cell_type": "markdown",
   "metadata": {},
   "source": [
    "## Estimation of $\\hat{D_{\\ell}}$ given windows"
   ]
  },
  {
   "cell_type": "markdown",
   "metadata": {},
   "source": [
    "In a loop, we read in Window functions, $W_i$, calculate the power spectrum of the windows, $C^{W_{i}}_{\\ell}$, and then convolve with the coupling matrix, $M$ to get the expected power spectrum (theoretical), i.e.\n",
    "\n",
    "\\begin{equation}\n",
    "\\tilde{C}^{\\rm th_{i}}_{\\ell}  = M {C}^{W_{i}}_{\\ell}\n",
    "\\end{equation}"
   ]
  },
  {
   "cell_type": "code",
   "execution_count": 17,
   "metadata": {},
   "outputs": [],
   "source": [
    "import sys\n",
    "\n",
    "#list of all selection function fits files\n",
    "import glob\n",
    "window_list = glob.glob(\"../dat/windows/*fits\")"
   ]
  },
  {
   "cell_type": "markdown",
   "metadata": {},
   "source": [
    "### Estimate for Models B"
   ]
  },
  {
   "cell_type": "code",
   "execution_count": 23,
   "metadata": {},
   "outputs": [
    {
     "name": "stdout",
     "output_type": "stream",
     "text": [
      "0\n",
      "100\n",
      "200\n",
      "300\n",
      "400\n",
      "500\n",
      "600\n",
      "700\n",
      "800\n",
      "900\n"
     ]
    }
   ],
   "source": [
    "pcl_th = np.zeros((len(window_list), lmax_cl))\n",
    "\n",
    "i = 0\n",
    "window_cl_array = np.zeros((pm.NMOCKS, window_lmax))\n",
    "for window in window_list:\n",
    "    window_map = read_img_map(window)\n",
    "    window_cl_array[i] = hp.anafast(window_map, lmax=window_lmax - 1, pol = False)\n",
    "    #pcl_th[i] = M @ window_cl\n",
    "   \n",
    "    if((i % (100)) == 0):\n",
    "        print(i)\n",
    "    i += 1"
   ]
  },
  {
   "cell_type": "markdown",
   "metadata": {},
   "source": [
    "### Estimate for model A"
   ]
  },
  {
   "cell_type": "code",
   "execution_count": 59,
   "metadata": {},
   "outputs": [],
   "source": [
    "window_map = np.load(\"../dat/windows/Favg/Favg_map_unpickled.npy\")\n",
    "window_cl = hp.anafast(window_map, lmax=window_lmax, pol = False)\n",
    "pcl_th_Favg = M @ window_cl"
   ]
  },
  {
   "cell_type": "markdown",
   "metadata": {},
   "source": [
    "Save $\\hat{D_{\\ell}}$, $M$, and $C^{W}_{\\ell}$s"
   ]
  },
  {
   "cell_type": "code",
   "execution_count": 25,
   "metadata": {},
   "outputs": [],
   "source": [
    "#np.save(\"../dat/pcl_th_B.npy\", pcl_th, allow_pickle=False)\n",
    "#np.save(\"../dat/pCls/th/couplingmatrix.npy\", M, allow_pickle=False)\n",
    "np.save(\"../dat/windows/window_cls.npy\", window_cl_array, allow_pickle=False)"
   ]
  },
  {
   "cell_type": "code",
   "execution_count": null,
   "metadata": {},
   "outputs": [],
   "source": [
    "np.save('../dat/pcl_th_Favg.npy', pcl_th_Favg, allow_pickle=False)"
   ]
  },
  {
   "cell_type": "markdown",
   "metadata": {},
   "source": [
    "## Compare Window and Mask power spectra"
   ]
  },
  {
   "cell_type": "code",
   "execution_count": 56,
   "metadata": {},
   "outputs": [],
   "source": [
    "#read in random to generate mask\n",
    "dr_elg_ran = np.load(\"../dat/elg_ran1024.npy\")\n",
    "mask = np.copy(dr_elg_ran)\n",
    "mask[dr_elg_ran != 0] = 1 #good pixels are 1\n",
    "mask = mask.astype(\"bool\")"
   ]
  },
  {
   "cell_type": "code",
   "execution_count": 57,
   "metadata": {},
   "outputs": [],
   "source": [
    "mask_cl = hp.anafast(mask, lmax = window_lmax - 1, pol = False)"
   ]
  },
  {
   "cell_type": "code",
   "execution_count": 60,
   "metadata": {},
   "outputs": [
    {
     "data": {
      "text/plain": [
       "Text(0, 0.5, 'Window/Mask')"
      ]
     },
     "execution_count": 60,
     "metadata": {},
     "output_type": "execute_result"
    },
    {
     "data": {
      "image/png": "[encoded data removed]",
      "text/plain": [
       "<Figure size 720x504 with 1 Axes>"
      ]
     },
     "metadata": {},
     "output_type": "display_data"
    }
   ],
   "source": [
    "plt.figure(figsize=pm.fsize)\n",
    "plt.plot(pm.ell, window_cl_array.mean(axis = 0)[:pm.ell.shape[0]]/mask_cl[:pm.ell.shape[0]])\n",
    "plt.xlabel(r\"$\\ell$\", fontsize = pm.fs)\n",
    "plt.ylabel(\"Window/Mask\", fontsize = pm.fs)"
   ]
  },
  {
   "cell_type": "markdown",
   "metadata": {},
   "source": [
    "**Observation:** Window carries more power at higher $\\ell$."
   ]
  },
  {
   "cell_type": "markdown",
   "metadata": {},
   "source": [
    "## Estimation of Cov$(D_{\\ell}, D_{\\ell'})$"
   ]
  },
  {
   "cell_type": "code",
   "execution_count": 3,
   "metadata": {},
   "outputs": [],
   "source": [
    "window_cl_array = np.load(\"../dat/windows/window_cls.npy\")"
   ]
  },
  {
   "cell_type": "code",
   "execution_count": 4,
   "metadata": {},
   "outputs": [],
   "source": [
    "import sys\n",
    "sys.path.insert(1, '../src/')\n",
    "from lib import *"
   ]
  },
  {
   "cell_type": "code",
   "execution_count": 5,
   "metadata": {},
   "outputs": [
    {
     "name": "stderr",
     "output_type": "stream",
     "text": [
      "../src/lib.py:171: FutureWarning: Using a non-tuple sequence for multidimensional indexing is deprecated; use `arr[tuple(seq)]` instead of `arr[seq]`. In the future this will be interpreted as an array index, `arr[np.array(seq)]`, which will result either in an error or a different result.\n",
      "  mat_t=mat_r_dr[slc]\n"
     ]
    }
   ],
   "source": [
    "window_cL_array = np.zeros((pm.NMOCKS, pm.ELL.shape[0] - 1))\n",
    "\n",
    "for i in range(pm.NMOCKS):\n",
    "    ELL_mid, window_cL_array[i] = bin_mat(pm.ell[:pm.NSIDE], \n",
    "                                          window_cl_array[i][:pm.NSIDE], \n",
    "                                          pm.ELL) #Cls up to NSIDE is good"
   ]
  },
  {
   "cell_type": "code",
   "execution_count": 6,
   "metadata": {},
   "outputs": [],
   "source": [
    "cov_binned = np.cov(window_cL_array.T)"
   ]
  },
  {
   "cell_type": "code",
   "execution_count": 7,
   "metadata": {},
   "outputs": [],
   "source": [
    "Dinv = np.diag(1 / np.sqrt(np.diag(cov_binned))) \n",
    "corr = Dinv @ cov_binned @ Dinv"
   ]
  },
  {
   "cell_type": "code",
   "execution_count": 8,
   "metadata": {},
   "outputs": [
    {
     "data": {
      "text/plain": [
       "<matplotlib.axes._subplots.AxesSubplot at 0x7f6a446f6730>"
      ]
     },
     "execution_count": 8,
     "metadata": {},
     "output_type": "execute_result"
    },
    {
     "data": {
      "image/png": "[encoded data removed]",
      "text/plain": [
       "<Figure size 432x288 with 2 Axes>"
      ]
     },
     "metadata": {},
     "output_type": "display_data"
    }
   ],
   "source": [
    "sns.heatmap(corr, cmap = 'seismic', xticklabels=np.round(ELL_mid), yticklabels=np.round(ELL_mid))"
   ]
  },
  {
   "cell_type": "markdown",
   "metadata": {},
   "source": [
    "### Experimentally show that cov + binning = binning + cov\n",
    "\n",
    "This is important because we want to use Equation 45 using the full matrices and then bin."
   ]
  },
  {
   "cell_type": "code",
   "execution_count": 9,
   "metadata": {},
   "outputs": [
    {
     "name": "stderr",
     "output_type": "stream",
     "text": [
      "../src/lib.py:173: FutureWarning: Using a non-tuple sequence for multidimensional indexing is deprecated; use `arr[tuple(seq)]` instead of `arr[seq]`. In the future this will be interpreted as an array index, `arr[np.array(seq)]`, which will result either in an error or a different result.\n",
      "  mat_t=mat_t[slc]\n"
     ]
    }
   ],
   "source": [
    "#bin cov_full\n",
    "cov_full = np.cov(window_cl_array.T)\n",
    "tmpELL_mid, tmpcov_binned = bin_mat(pm.ell[:pm.NSIDE], cov_full[:pm.NSIDE, :pm.NSIDE], pm.ELL)"
   ]
  },
  {
   "cell_type": "code",
   "execution_count": 10,
   "metadata": {},
   "outputs": [
    {
     "name": "stdout",
     "output_type": "stream",
     "text": [
      "4.235164736271502e-22\n",
      "-1.1580528575742387e-23\n"
     ]
    }
   ],
   "source": [
    "print((tmpcov_binned - cov_binned).max())\n",
    "print((tmpcov_binned - cov_binned).min())"
   ]
  },
  {
   "cell_type": "markdown",
   "metadata": {},
   "source": [
    "### Apply Equation 45 to do the estimation"
   ]
  },
  {
   "cell_type": "code",
   "execution_count": 11,
   "metadata": {},
   "outputs": [
    {
     "data": {
      "text/plain": [
       "(2048, 4097)"
      ]
     },
     "execution_count": 11,
     "metadata": {},
     "output_type": "execute_result"
    }
   ],
   "source": [
    "M = np.load(\"../dat/pCls/th/couplingmatrix_BC.npy\")\n",
    "M.shape"
   ]
  },
  {
   "cell_type": "code",
   "execution_count": 12,
   "metadata": {},
   "outputs": [],
   "source": [
    "cov_B_theory = M[:,:-1] @ cov_full @ M[:, :-1].T"
   ]
  },
  {
   "cell_type": "code",
   "execution_count": 13,
   "metadata": {},
   "outputs": [],
   "source": [
    "_, cov_B_theory_binned = bin_mat(pm.ell[:pm.NSIDE], \n",
    "                                 cov_B_theory[:pm.NSIDE, :pm.NSIDE], \n",
    "                                 pm.ELL)"
   ]
  },
  {
   "cell_type": "markdown",
   "metadata": {},
   "source": [
    "### Compare theory with experimental Cov$_B$"
   ]
  },
  {
   "cell_type": "code",
   "execution_count": 14,
   "metadata": {},
   "outputs": [],
   "source": [
    "cls_A = np.load(\"../dat/pCls/1000mocks/pCls_A.npy\")\n",
    "cls_B = np.load(\"../dat/pCls/1000mocks/pCls_B.npy\")"
   ]
  },
  {
   "cell_type": "code",
   "execution_count": 15,
   "metadata": {},
   "outputs": [],
   "source": [
    "cov_B_exp = np.cov(cls_B.T)\n",
    "cov_A_exp = np.cov(cls_A.T)"
   ]
  },
  {
   "cell_type": "code",
   "execution_count": 16,
   "metadata": {},
   "outputs": [],
   "source": [
    "_, cov_diff_exp_binned = bin_mat(pm.ell[:pm.NSIDE], \n",
    "                       cov_B_exp[:pm.NSIDE, :pm.NSIDE] - cov_A_exp[:pm.NSIDE, :pm.NSIDE], \n",
    "                       pm.ELL)"
   ]
  },
  {
   "cell_type": "code",
   "execution_count": 17,
   "metadata": {},
   "outputs": [
    {
     "data": {
      "text/plain": [
       "<matplotlib.axes._subplots.AxesSubplot at 0x7f6a445afe20>"
      ]
     },
     "execution_count": 17,
     "metadata": {},
     "output_type": "execute_result"
    },
    {
     "data": {
      "image/png": "[encoded data removed]",
      "text/plain": [
       "<Figure size 432x288 with 2 Axes>"
      ]
     },
     "metadata": {},
     "output_type": "display_data"
    }
   ],
   "source": [
    "sns.heatmap(cov_diff_exp_binned - cov_B_theory_binned)"
   ]
  },
  {
   "cell_type": "code",
   "execution_count": 44,
   "metadata": {},
   "outputs": [
    {
     "data": {
      "text/plain": [
       "array([3.71423485e+06, 5.34292821e+06, 1.52944755e+06, 3.09724396e+05,\n",
       "       6.43394549e+04, 1.55016875e+04, 3.52613895e+03, 9.27262276e+02,\n",
       "       3.71039393e+02])"
      ]
     },
     "execution_count": 44,
     "metadata": {},
     "output_type": "execute_result"
    }
   ],
   "source": [
    "(np.diag(cov_B_exp_binned) - np.diag(cov_B_theory_binned))/np.diag(cov_B_theory_binned)"
   ]
  },
  {
   "cell_type": "code",
   "execution_count": 18,
   "metadata": {},
   "outputs": [
    {
     "data": {
      "text/plain": [
       "array([ 9.36180689e-15, -1.62329581e-15,  1.58455200e-16, -2.10095137e-16,\n",
       "       -7.85839053e-17,  4.95644503e-17,  4.20422210e-18,  2.12268482e-19,\n",
       "        1.32713311e-20])"
      ]
     },
     "execution_count": 18,
     "metadata": {},
     "output_type": "execute_result"
    }
   ],
   "source": [
    "np.diag(cov_diff_exp_binned)"
   ]
  },
  {
   "cell_type": "code",
   "execution_count": 19,
   "metadata": {},
   "outputs": [
    {
     "data": {
      "text/plain": [
       "array([1.98011123e-19, 1.28053883e-19, 2.64627877e-19, 8.77912790e-19,\n",
       "       1.31364240e-18, 6.41530210e-19, 1.64954557e-19, 2.11185908e-20,\n",
       "       2.14663242e-21])"
      ]
     },
     "execution_count": 19,
     "metadata": {},
     "output_type": "execute_result"
    }
   ],
   "source": [
    "np.diag(cov_B_theory_binned)"
   ]
  },
  {
   "cell_type": "code",
   "execution_count": 27,
   "metadata": {},
   "outputs": [
    {
     "name": "stderr",
     "output_type": "stream",
     "text": [
      "../src/lib.py:171: FutureWarning: Using a non-tuple sequence for multidimensional indexing is deprecated; use `arr[tuple(seq)]` instead of `arr[seq]`. In the future this will be interpreted as an array index, `arr[np.array(seq)]`, which will result either in an error or a different result.\n",
      "  mat_t=mat_r_dr[slc]\n",
      "../src/lib.py:173: FutureWarning: Using a non-tuple sequence for multidimensional indexing is deprecated; use `arr[tuple(seq)]` instead of `arr[seq]`. In the future this will be interpreted as an array index, `arr[np.array(seq)]`, which will result either in an error or a different result.\n",
      "  mat_t=mat_t[slc]\n"
     ]
    },
    {
     "data": {
      "text/plain": [
       "(100, 1000)"
      ]
     },
     "execution_count": 27,
     "metadata": {},
     "output_type": "execute_result"
    },
    {
     "data": {
      "image/png": "[encoded data removed]",
      "text/plain": [
       "<Figure size 432x288 with 1 Axes>"
      ]
     },
     "metadata": {},
     "output_type": "display_data"
    }
   ],
   "source": [
    "_, cov_A_exp_binned = bin_mat(pm.ell[:pm.NSIDE], \n",
    "                       cov_A_exp[:pm.NSIDE, :pm.NSIDE], \n",
    "                       pm.ELL)\n",
    "_, cov_B_exp_binned = bin_mat(pm.ell[:pm.NSIDE], \n",
    "                       cov_B_exp[:pm.NSIDE, :pm.NSIDE], \n",
    "                       pm.ELL)\n",
    "plt.loglog(ELL_mid, np.diag(cov_B_exp_binned)/np.diag(cov_A_exp_binned), label = 'B/A')\n",
    "#plt.loglog(ELL_mid, , label = 'B')\n",
    "plt.legend(loc = 'best')\n",
    "plt.xlim([100, 1000])"
   ]
  },
  {
   "cell_type": "code",
   "execution_count": 31,
   "metadata": {},
   "outputs": [
    {
     "name": "stderr",
     "output_type": "stream",
     "text": [
      "../src/lib.py:171: FutureWarning: Using a non-tuple sequence for multidimensional indexing is deprecated; use `arr[tuple(seq)]` instead of `arr[seq]`. In the future this will be interpreted as an array index, `arr[np.array(seq)]`, which will result either in an error or a different result.\n",
      "  mat_t=mat_r_dr[slc]\n"
     ]
    }
   ],
   "source": [
    "cls_A_mean = cls_A.mean(axis = 0)\n",
    "_, cls_A_mean_binned = bin_mat(pm.ell[:pm.NSIDE], \n",
    "                       cls_A_mean[:pm.NSIDE], \n",
    "                       pm.ELL)"
   ]
  },
  {
   "cell_type": "code",
   "execution_count": 26,
   "metadata": {},
   "outputs": [
    {
     "data": {
      "text/plain": [
       "(100, 1000)"
      ]
     },
     "execution_count": 26,
     "metadata": {},
     "output_type": "execute_result"
    },
    {
     "data": {
      "image/png": "[encoded data removed]",
      "text/plain": [
       "<Figure size 432x288 with 1 Axes>"
      ]
     },
     "metadata": {},
     "output_type": "display_data"
    }
   ],
   "source": [
    "plt.loglog(ELL_mid, np.diag(cov_diff_exp_binned), label = 'Experiment')\n",
    "plt.loglog(ELL_mid, np.diag(cov_B_theory_binned), label = 'Theory')\n",
    "plt.legend(loc = 'best')\n",
    "plt.xlim([100, 1000])"
   ]
  },
  {
   "cell_type": "code",
   "execution_count": 36,
   "metadata": {},
   "outputs": [
    {
     "name": "stderr",
     "output_type": "stream",
     "text": [
      "No handles with labels found to put in legend.\n"
     ]
    },
    {
     "data": {
      "text/plain": [
       "(100, 1000)"
      ]
     },
     "execution_count": 36,
     "metadata": {},
     "output_type": "execute_result"
    },
    {
     "data": {
      "image/png": "[encoded data removed]",
      "text/plain": [
       "<Figure size 432x288 with 1 Axes>"
      ]
     },
     "metadata": {},
     "output_type": "display_data"
    }
   ],
   "source": [
    "plt.loglog(ELL_mid, (np.diag(cov_diff_exp_binned) - np.diag(cov_B_theory_binned))/np.diag(cov_A_exp_binned))\n",
    "plt.legend(loc = 'best')\n",
    "plt.xlim([100, 1000])\n",
    "#plt.ylim([1e-14, 1e-11])"
   ]
  },
  {
   "cell_type": "code",
   "execution_count": 38,
   "metadata": {},
   "outputs": [
    {
     "data": {
      "text/plain": [
       "(2048, 4097)"
      ]
     },
     "execution_count": 38,
     "metadata": {},
     "output_type": "execute_result"
    }
   ],
   "source": [
    "M.shape"
   ]
  },
  {
   "cell_type": "code",
   "execution_count": 39,
   "metadata": {},
   "outputs": [
    {
     "data": {
      "text/plain": [
       "(1000, 4096)"
      ]
     },
     "execution_count": 39,
     "metadata": {},
     "output_type": "execute_result"
    }
   ],
   "source": [
    "window_cl_array.shape"
   ]
  },
  {
   "cell_type": "code",
   "execution_count": 40,
   "metadata": {},
   "outputs": [],
   "source": [
    "tmp1 = M[:, :-1] @ window_cl_array.T\n",
    "tmp2 = np.cov(tmp1)"
   ]
  },
  {
   "cell_type": "code",
   "execution_count": 45,
   "metadata": {},
   "outputs": [
    {
     "name": "stderr",
     "output_type": "stream",
     "text": [
      "../src/lib.py:171: FutureWarning: Using a non-tuple sequence for multidimensional indexing is deprecated; use `arr[tuple(seq)]` instead of `arr[seq]`. In the future this will be interpreted as an array index, `arr[np.array(seq)]`, which will result either in an error or a different result.\n",
      "  mat_t=mat_r_dr[slc]\n",
      "../src/lib.py:173: FutureWarning: Using a non-tuple sequence for multidimensional indexing is deprecated; use `arr[tuple(seq)]` instead of `arr[seq]`. In the future this will be interpreted as an array index, `arr[np.array(seq)]`, which will result either in an error or a different result.\n",
      "  mat_t=mat_t[slc]\n"
     ]
    }
   ],
   "source": [
    "_, tmp2_binned = bin_mat(pm.ell[:pm.NSIDE], \n",
    "                       tmp2[:pm.NSIDE, :pm.NSIDE], \n",
    "                       pm.ELL)"
   ]
  },
  {
   "cell_type": "code",
   "execution_count": 48,
   "metadata": {},
   "outputs": [
    {
     "data": {
      "text/plain": [
       "(100, 1000)"
      ]
     },
     "execution_count": 48,
     "metadata": {},
     "output_type": "execute_result"
    },
    {
     "data": {
      "image/png": "[encoded data removed]",
      "text/plain": [
       "<Figure size 432x288 with 1 Axes>"
      ]
     },
     "metadata": {},
     "output_type": "display_data"
    }
   ],
   "source": [
    "plt.loglog(ELL_mid, (np.diag(cov_diff_exp_binned) - np.diag(tmp2_binned)), label = 'new correction')\n",
    "plt.loglog(ELL_mid, (np.diag(cov_diff_exp_binned) - np.diag(cov_B_theory_binned)), label = 'old correction')\n",
    "plt.legend(loc = 'best')\n",
    "plt.xlim([100, 1000])\n",
    "#plt.ylim([1e-14, 1e-11])"
   ]
  },
  {
   "cell_type": "markdown",
   "metadata": {},
   "source": [
    "**Observation:** experimental values are much higher than theory values"
   ]
  },
  {
   "cell_type": "markdown",
   "metadata": {},
   "source": [
    "### Compare B and C"
   ]
  },
  {
   "cell_type": "code",
   "execution_count": 51,
   "metadata": {},
   "outputs": [],
   "source": [
    "cls_C = np.load(\"../dat/pCls/1000mocks/pCls_C.npy\")"
   ]
  },
  {
   "cell_type": "code",
   "execution_count": 53,
   "metadata": {},
   "outputs": [
    {
     "data": {
      "text/plain": [
       "(1024, 1024)"
      ]
     },
     "execution_count": 53,
     "metadata": {},
     "output_type": "execute_result"
    }
   ],
   "source": [
    "cov_C_exp = np.cov(cls_C.T)\n",
    "cov_C_exp.shape"
   ]
  },
  {
   "cell_type": "code",
   "execution_count": 54,
   "metadata": {},
   "outputs": [
    {
     "name": "stderr",
     "output_type": "stream",
     "text": [
      "../src/lib.py:171: FutureWarning: Using a non-tuple sequence for multidimensional indexing is deprecated; use `arr[tuple(seq)]` instead of `arr[seq]`. In the future this will be interpreted as an array index, `arr[np.array(seq)]`, which will result either in an error or a different result.\n",
      "  mat_t=mat_r_dr[slc]\n",
      "../src/lib.py:173: FutureWarning: Using a non-tuple sequence for multidimensional indexing is deprecated; use `arr[tuple(seq)]` instead of `arr[seq]`. In the future this will be interpreted as an array index, `arr[np.array(seq)]`, which will result either in an error or a different result.\n",
      "  mat_t=mat_t[slc]\n"
     ]
    }
   ],
   "source": [
    "_, cov_diffCB_exp_binned = bin_mat(pm.ell[:pm.NSIDE], \n",
    "                       cov_C_exp[:pm.NSIDE, :pm.NSIDE] - cov_B_exp[:pm.NSIDE, :pm.NSIDE], \n",
    "                       pm.ELL)"
   ]
  },
  {
   "cell_type": "code",
   "execution_count": 56,
   "metadata": {},
   "outputs": [
    {
     "data": {
      "text/plain": [
       "(9, 9)"
      ]
     },
     "execution_count": 56,
     "metadata": {},
     "output_type": "execute_result"
    }
   ],
   "source": [
    "cov_diffCB_exp_binned.shape"
   ]
  },
  {
   "cell_type": "code",
   "execution_count": 59,
   "metadata": {},
   "outputs": [
    {
     "name": "stderr",
     "output_type": "stream",
     "text": [
      "../src/lib.py:171: FutureWarning: Using a non-tuple sequence for multidimensional indexing is deprecated; use `arr[tuple(seq)]` instead of `arr[seq]`. In the future this will be interpreted as an array index, `arr[np.array(seq)]`, which will result either in an error or a different result.\n",
      "  mat_t=mat_r_dr[slc]\n",
      "../src/lib.py:173: FutureWarning: Using a non-tuple sequence for multidimensional indexing is deprecated; use `arr[tuple(seq)]` instead of `arr[seq]`. In the future this will be interpreted as an array index, `arr[np.array(seq)]`, which will result either in an error or a different result.\n",
      "  mat_t=mat_t[slc]\n"
     ]
    }
   ],
   "source": [
    "cov_window = np.cov(window_cl_array.T)\n",
    "_, cov_window_th_binned = bin_mat(pm.ell[:pm.NSIDE], \n",
    "                       cov_window[:pm.NSIDE, :pm.NSIDE], \n",
    "                       pm.ELL)"
   ]
  },
  {
   "cell_type": "code",
   "execution_count": 62,
   "metadata": {},
   "outputs": [
    {
     "name": "stderr",
     "output_type": "stream",
     "text": [
      "No handles with labels found to put in legend.\n"
     ]
    },
    {
     "data": {
      "text/plain": [
       "<matplotlib.legend.Legend at 0x7f69c19f84c0>"
      ]
     },
     "execution_count": 62,
     "metadata": {},
     "output_type": "execute_result"
    },
    {
     "data": {
      "image/png": "[encoded data removed]",
      "text/plain": [
       "<Figure size 720x504 with 1 Axes>"
      ]
     },
     "metadata": {},
     "output_type": "display_data"
    }
   ],
   "source": [
    "plt.figure(figsize = (10, 7))\n",
    "plt.loglog(ELL_mid, np.diag(cov_diffCB_exp_binned)/np.diag(cov_window_th_binned))\n",
    "plt.legend(loc = 'best')\n",
    "#plt.xlim([100, 1000])"
   ]
  },
  {
   "cell_type": "code",
   "execution_count": 68,
   "metadata": {},
   "outputs": [
    {
     "name": "stderr",
     "output_type": "stream",
     "text": [
      "No handles with labels found to put in legend.\n"
     ]
    },
    {
     "data": {
      "text/plain": [
       "<matplotlib.legend.Legend at 0x7f6a040fcfd0>"
      ]
     },
     "execution_count": 68,
     "metadata": {},
     "output_type": "execute_result"
    },
    {
     "data": {
      "image/png": "[encoded data removed]",
      "text/plain": [
       "<Figure size 720x504 with 1 Axes>"
      ]
     },
     "metadata": {},
     "output_type": "display_data"
    }
   ],
   "source": [
    "plt.figure(figsize = (10, 7))\n",
    "plt.plot(ELL_mid, np.diag(cov_diffCB_exp_binned)/np.diag(cov_window_th_binned))\n",
    "plt.legend(loc = 'best')\n",
    "#plt.xlim([100, 1000])\n",
    "#plt.ylim([.5, 1.5])"
   ]
  },
  {
   "cell_type": "markdown",
   "metadata": {},
   "source": [
    "### Compare theory corr matrix with exp"
   ]
  },
  {
   "cell_type": "code",
   "execution_count": 40,
   "metadata": {},
   "outputs": [],
   "source": [
    "err_th = np.sqrt(np.diag(cov_B_theory_binned))\n",
    "corr_th = cov_B_theory_binned / np.outer(err_th,err_th)\n",
    "\n",
    "err_exp = np.sqrt(np.diag(cov_B_exp_binned))\n",
    "corr_exp = cov_B_exp_binned / np.outer(err_exp,err_exp)"
   ]
  },
  {
   "cell_type": "code",
   "execution_count": 41,
   "metadata": {},
   "outputs": [
    {
     "data": {
      "text/plain": [
       "<matplotlib.axes._subplots.AxesSubplot at 0x7f57446cf850>"
      ]
     },
     "execution_count": 41,
     "metadata": {},
     "output_type": "execute_result"
    },
    {
     "data": {
      "image/png": "[encoded data removed]",
      "text/plain": [
       "<Figure size 432x288 with 2 Axes>"
      ]
     },
     "metadata": {},
     "output_type": "display_data"
    }
   ],
   "source": [
    "sns.heatmap(corr_th - corr_exp)"
   ]
  },
  {
   "cell_type": "code",
   "execution_count": null,
   "metadata": {},
   "outputs": [],
   "source": []
  },
  {
   "cell_type": "code",
   "execution_count": 57,
   "metadata": {},
   "outputs": [
    {
     "data": {
      "image/png": "[encoded data removed]",
      "text/plain": [
       "<Figure size 432x288 with 1 Axes>"
      ]
     },
     "metadata": {},
     "output_type": "display_data"
    }
   ],
   "source": [
    "ell = np.arange(0, lmax_cl)\n",
    "for i in range(10):\n",
    "    plt.plot(ell, pcl_th[i]/pcl_th[0] - 1)\n",
    "#lt.loglog(ell, Cl0)"
   ]
  },
  {
   "cell_type": "code",
   "execution_count": 63,
   "metadata": {},
   "outputs": [],
   "source": [
    "np.save('../dat/window_list_ordered.npy', window_list, allow_pickle=False)"
   ]
  },
  {
   "cell_type": "code",
   "execution_count": 64,
   "metadata": {},
   "outputs": [
    {
     "data": {
      "text/plain": [
       "'/home/tkarim/imaging-sys-covariance/notebooks'"
      ]
     },
     "execution_count": 64,
     "metadata": {},
     "output_type": "execute_result"
    }
   ],
   "source": [
    "pwd"
   ]
  },
  {
   "cell_type": "code",
   "execution_count": null,
   "metadata": {},
   "outputs": [],
   "source": []
  }
 ],
 "metadata": {
  "kernelspec": {
   "display_name": "Python 3",
   "language": "python",
   "name": "python3"
  },
  "language_info": {
   "codemirror_mode": {
    "name": "ipython",
    "version": 3
   },
   "file_extension": ".py",
   "mimetype": "text/x-python",
   "name": "python",
   "nbconvert_exporter": "python",
   "pygments_lexer": "ipython3",
   "version": "3.8.3"
  }
 },
 "nbformat": 4,
 "nbformat_minor": 4
}
