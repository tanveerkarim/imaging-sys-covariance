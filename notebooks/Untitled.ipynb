{
 "cells": [
  {
   "cell_type": "code",
   "execution_count": 2,
   "metadata": {},
   "outputs": [
    {
     "name": "stdout",
     "output_type": "stream",
     "text": [
      "Running Model A\n",
      "A\n",
      "0\n",
      "A\n"
     ]
    },
    {
     "ename": "KeyboardInterrupt",
     "evalue": "",
     "output_type": "error",
     "traceback": [
      "\u001b[0;31m---------------------------------------------------------------------------\u001b[0m",
      "\u001b[0;31mKeyboardInterrupt\u001b[0m                         Traceback (most recent call last)",
      "\u001b[0;32m<ipython-input-2-33fac4e67362>\u001b[0m in \u001b[0;36m<module>\u001b[0;34m\u001b[0m\n\u001b[1;32m    127\u001b[0m                 \u001b[0mcls_shot_noise\u001b[0m\u001b[0;34m=\u001b[0m\u001b[0mcls_shot_noise\u001b[0m\u001b[0;34m,\u001b[0m \u001b[0mF\u001b[0m \u001b[0;34m=\u001b[0m \u001b[0mtmpF\u001b[0m\u001b[0;34m,\u001b[0m\u001b[0;34m\u001b[0m\u001b[0;34m\u001b[0m\u001b[0m\n\u001b[1;32m    128\u001b[0m                 \u001b[0mmask\u001b[0m \u001b[0;34m=\u001b[0m \u001b[0mmask\u001b[0m\u001b[0;34m,\u001b[0m \u001b[0mseed\u001b[0m \u001b[0;34m=\u001b[0m \u001b[0;36m67\u001b[0m \u001b[0;34m+\u001b[0m \u001b[0;36m2\u001b[0m\u001b[0;34m*\u001b[0m\u001b[0mi\u001b[0m\u001b[0;34m,\u001b[0m \u001b[0mLMAX\u001b[0m \u001b[0;34m=\u001b[0m \u001b[0mLMAX\u001b[0m\u001b[0;34m,\u001b[0m \u001b[0madditive\u001b[0m \u001b[0;34m=\u001b[0m \u001b[0madditive\u001b[0m\u001b[0;34m,\u001b[0m\u001b[0;34m\u001b[0m\u001b[0;34m\u001b[0m\u001b[0m\n\u001b[0;32m--> 129\u001b[0;31m                 img_applied_data = img_applied_data)\n\u001b[0m\u001b[1;32m    130\u001b[0m \u001b[0;34m\u001b[0m\u001b[0m\n\u001b[1;32m    131\u001b[0m     \u001b[0;32mif\u001b[0m\u001b[0;34m(\u001b[0m\u001b[0;34m(\u001b[0m\u001b[0mi\u001b[0m \u001b[0;34m%\u001b[0m \u001b[0;34m(\u001b[0m\u001b[0;36m100\u001b[0m\u001b[0;34m)\u001b[0m\u001b[0;34m)\u001b[0m \u001b[0;34m==\u001b[0m \u001b[0;36m0\u001b[0m\u001b[0;34m)\u001b[0m\u001b[0;34m:\u001b[0m\u001b[0;34m\u001b[0m\u001b[0;34m\u001b[0m\u001b[0m\n",
      "\u001b[0;32m~/Documents/desi-planck-cross-corr/imaging-sys-covariance/src/lib.py\u001b[0m in \u001b[0;36mcls_from_mock\u001b[0;34m(cls_th, cls_shot_noise, F, mask, seed, LMAX, NSIDE, additive, img_applied_data)\u001b[0m\n\u001b[1;32m    270\u001b[0m \u001b[0;34m\u001b[0m\u001b[0m\n\u001b[1;32m    271\u001b[0m     \u001b[0;31m#calcuate pseudo-Cl\u001b[0m\u001b[0;34m\u001b[0m\u001b[0;34m\u001b[0m\u001b[0;34m\u001b[0m\u001b[0m\n\u001b[0;32m--> 272\u001b[0;31m     \u001b[0mcls_obs\u001b[0m \u001b[0;34m=\u001b[0m \u001b[0mhp\u001b[0m\u001b[0;34m.\u001b[0m\u001b[0manafast\u001b[0m\u001b[0;34m(\u001b[0m\u001b[0mdelta_c\u001b[0m\u001b[0;34m,\u001b[0m \u001b[0mlmax\u001b[0m \u001b[0;34m=\u001b[0m \u001b[0mLMAX\u001b[0m \u001b[0;34m-\u001b[0m\u001b[0;36m1\u001b[0m\u001b[0;34m,\u001b[0m \u001b[0mpol\u001b[0m \u001b[0;34m=\u001b[0m \u001b[0;32mFalse\u001b[0m\u001b[0;34m)\u001b[0m\u001b[0;34m\u001b[0m\u001b[0;34m\u001b[0m\u001b[0m\n\u001b[0m\u001b[1;32m    273\u001b[0m \u001b[0;34m\u001b[0m\u001b[0m\n\u001b[1;32m    274\u001b[0m     \u001b[0;32mreturn\u001b[0m \u001b[0mcls_obs\u001b[0m\u001b[0;34m\u001b[0m\u001b[0;34m\u001b[0m\u001b[0m\n",
      "\u001b[0;32m~/anaconda3/lib/python3.7/site-packages/healpy/sphtfunc.py\u001b[0m in \u001b[0;36manafast\u001b[0;34m(map1, map2, nspec, lmax, mmax, iter, alm, pol, use_weights, datapath, gal_cut, use_pixel_weights)\u001b[0m\n\u001b[1;32m    121\u001b[0m         \u001b[0mdatapath\u001b[0m\u001b[0;34m=\u001b[0m\u001b[0mdatapath\u001b[0m\u001b[0;34m,\u001b[0m\u001b[0;34m\u001b[0m\u001b[0;34m\u001b[0m\u001b[0m\n\u001b[1;32m    122\u001b[0m         \u001b[0mgal_cut\u001b[0m\u001b[0;34m=\u001b[0m\u001b[0mgal_cut\u001b[0m\u001b[0;34m,\u001b[0m\u001b[0;34m\u001b[0m\u001b[0;34m\u001b[0m\u001b[0m\n\u001b[0;32m--> 123\u001b[0;31m         \u001b[0muse_pixel_weights\u001b[0m\u001b[0;34m=\u001b[0m\u001b[0muse_pixel_weights\u001b[0m\u001b[0;34m,\u001b[0m\u001b[0;34m\u001b[0m\u001b[0;34m\u001b[0m\u001b[0m\n\u001b[0m\u001b[1;32m    124\u001b[0m     )\n\u001b[1;32m    125\u001b[0m     \u001b[0;32mif\u001b[0m \u001b[0mmap2\u001b[0m \u001b[0;32mis\u001b[0m \u001b[0;32mnot\u001b[0m \u001b[0;32mNone\u001b[0m\u001b[0;34m:\u001b[0m\u001b[0;34m\u001b[0m\u001b[0;34m\u001b[0m\u001b[0m\n",
      "\u001b[0;32m~/anaconda3/lib/python3.7/site-packages/healpy/sphtfunc.py\u001b[0m in \u001b[0;36mmap2alm\u001b[0;34m(maps, lmax, mmax, iter, pol, use_weights, datapath, gal_cut, use_pixel_weights)\u001b[0m\n\u001b[1;32m    228\u001b[0m             \u001b[0mmmax\u001b[0m\u001b[0;34m=\u001b[0m\u001b[0mmmax\u001b[0m\u001b[0;34m,\u001b[0m\u001b[0;34m\u001b[0m\u001b[0;34m\u001b[0m\u001b[0m\n\u001b[1;32m    229\u001b[0m             \u001b[0mgal_cut\u001b[0m\u001b[0;34m=\u001b[0m\u001b[0mgal_cut\u001b[0m\u001b[0;34m,\u001b[0m\u001b[0;34m\u001b[0m\u001b[0;34m\u001b[0m\u001b[0m\n\u001b[0;32m--> 230\u001b[0;31m             \u001b[0mpixel_weights_filename\u001b[0m\u001b[0;34m=\u001b[0m\u001b[0mpixel_weights_filename\u001b[0m\u001b[0;34m,\u001b[0m\u001b[0;34m\u001b[0m\u001b[0;34m\u001b[0m\u001b[0m\n\u001b[0m\u001b[1;32m    231\u001b[0m         )\n\u001b[1;32m    232\u001b[0m     \u001b[0;32melse\u001b[0m\u001b[0;34m:\u001b[0m\u001b[0;34m\u001b[0m\u001b[0;34m\u001b[0m\u001b[0m\n",
      "\u001b[0;31mKeyboardInterrupt\u001b[0m: "
     ]
    }
   ],
   "source": [
    "\"\"\"Calculate pCls based on mocks\"\"\"\n",
    "\n",
    "import numpy as np\n",
    "import pandas as pd\n",
    "import healpy as hp\n",
    "from astropy.io import fits\n",
    "import pyccl as ccl\n",
    "\n",
    "from tqdm import tqdm #for timing\n",
    "\n",
    "import matplotlib.pyplot as plt\n",
    "import seaborn as sns\n",
    "plt.style.use(\"seaborn-notebook\")\n",
    "\n",
    "import sys\n",
    "sys.path.insert(1, '/home/tanveer/Documents/desi-planck-cross-corr/imaging-sys-covariance/src/')\n",
    "from lib import *\n",
    "\n",
    "#list of all selection function fits files\n",
    "import glob\n",
    "flist = glob.glob(\"/home/tanveer/Documents/desi-planck-cross-corr/imaging-sys-covariance/dat/windows_1000mocks/*fits\")\n",
    "\n",
    "#plotting parameters\n",
    "fs = 20 #font size\n",
    "fsize = (10, 7) #figure size\n",
    "\n",
    "#cosmology and simulation parameters\n",
    "NSIDE = 1024\n",
    "LMIN = 100;\n",
    "LMAX = 3 * NSIDE - 1\n",
    "ell = np.arange(0, LMAX, 1)\n",
    "ELL = np.logspace(0, np.log10(LMAX), 10) #for binning\n",
    "\n",
    "h = 0.6736\n",
    "Omega_c = 0.12/h**2\n",
    "Omega_b = 0.02237/h**2\n",
    "A_s = 2.083e-09\n",
    "n_s = 0.9649\n",
    "b1 = 1.75\n",
    "\n",
    "NMOCKS = 10\n",
    "tol = 0.8 #define tolerance between window and mask divergence\n",
    "\n",
    "#noise parameters\n",
    "nbar_sqdeg = 2400 #per deg2\n",
    "nbar_sr = (np.pi/180)**(-2) * nbar_sqdeg #conversion factor from sq deg to sr\n",
    "cls_shot_noise = 1/nbar_sr * np.ones_like(ell)\n",
    "\n",
    "#read in random and degrade it to generate mask\n",
    "dr_elg_ran = np.load(\"../dat/elg_ran1024.npy\")\n",
    "#dr_elg_ran64 = hp.ud_grade(dr_elg_ran, 64) #make it very coarse to remove weird effects in the middle\n",
    "#dr_elg_ran_final = hp.ud_grade(dr_elg_ran64, NSIDE) #leave as be for stellar masks\n",
    "\n",
    "mask = np.copy(dr_elg_ran)\n",
    "mask[dr_elg_ran != 0] = 1 #good pixels are 1\n",
    "mask = mask.astype(\"bool\")\n",
    "\n",
    "#import avg map\n",
    "Favg_map = np.load(\"../dat/windows_1000mocks/Favg/Favg_map.npy\")\n",
    "\n",
    "#set theory Cls\n",
    "cls_elg_th = cgll(ell = ell, bias = b1, Omega_c = Omega_c,\n",
    "                    Omega_b = Omega_b, h = h, A_s = A_s, n_s = n_s)\n",
    "\n",
    "##MAIN PART OF THE CODE##\n",
    "\n",
    "#print(\"Which model do you want to calculate?\")\n",
    "expname = input() #Look at notebook for definitions\n",
    "#expname = sys.argv[1]\n",
    "#expname = 'A'\n",
    "print(\"Running Model \" + expname)\n",
    "\n",
    "cls_obs = np.zeros((NMOCKS, LMAX)) #pCl values\n",
    "noise_window = np.zeros(NMOCKS) #selection function noise\n",
    "fsky = np.zeros(NMOCKS)\n",
    "\n",
    "#set const. fsky and noise_window; fsky same in the first three models\n",
    "if((expname == 'A')):\n",
    "    fsky = np.sum(mask)/mask.shape[0] * np.ones(NMOCKS)\n",
    "    noise_window = np.mean(Favg_map)*1/nbar_sr*np.ones(NMOCKS)\n",
    "    tmpF = Favg_map #since fixed window set outside loop\n",
    "    additive = None\n",
    "    img_applied_data = False\n",
    "elif((expname == 'B') | (expname == 'C')):\n",
    "    fsky = np.sum(mask)/mask.shape[0] * np.ones(NMOCKS)\n",
    "    img_applied_data = False\n",
    "elif(expname == 'D'):\n",
    "    mask = mask & (Favg_map > tol)\n",
    "    fsky = np.sum(mask)/mask.shape[0] * np.ones(NMOCKS)\n",
    "    noise_window = np.mean(1/Favg_map[mask]) * 1/nbar_sr * np.ones(NMOCKS)\n",
    "    tmpF = Favg_map #since fixed window set outside loop\n",
    "\n",
    "#model conditions; window applied to data vs random\n",
    "if((expname == 'A') | (expname == 'B') | (expname == 'C')):\n",
    "    img_applied_data = False\n",
    "else:\n",
    "    img_applied_data = True\n",
    "\n",
    "#model conditions; additive component\n",
    "if((expname == 'C') | (expname == 'F')):\n",
    "    additive = Favg_map\n",
    "else:\n",
    "    additive = None\n",
    "\n",
    "#loop over mocks to calculate pCl\n",
    "for i in range(NMOCKS):\n",
    "\n",
    "    #read in sel. function\n",
    "    if((expname != 'A') | (expname != 'D')):\n",
    "        print(expname)\n",
    "        tmpF = read_img_map(flist[i])\n",
    "\n",
    "        #renormalize selection function such that <F> = 1.\n",
    "        masked_tmpF_mean = np.mean(tmpF[mask > 0])\n",
    "        tmpF /= masked_tmpF_mean\n",
    "\n",
    "    #set mask for E and F\n",
    "    if((expname == 'E') | (expname == 'F')):\n",
    "        mask = mask & (tmpF > tol)\n",
    "        fsky[i] = np.sum(mask)/mask.shape[0]\n",
    "        noise_window[i] = np.mean(1/tmpF[mask]) * 1/nbar_sr\n",
    "    elif((expname == 'B') | (expname == 'C')):\n",
    "        noise_window[i] = np.mean(tmpF)*1/nbar_sr\n",
    "\n",
    "    #calculate pCl\n",
    "    cls_obs[i] = cls_from_mock(cls_th = cls_elg_th,\n",
    "                cls_shot_noise=cls_shot_noise, F = tmpF,\n",
    "                mask = mask, seed = 67 + 2*i, LMAX = LMAX, additive = additive,\n",
    "                img_applied_data = img_applied_data)\n",
    "\n",
    "    if((i % (100)) == 0):\n",
    "        print(i)\n",
    "\n",
    "#first order correction to pCls; fsky and noise_window\n",
    "if((expname == 'A') | (expname == 'B') | (expname == 'C')):\n",
    "    cls_obs = (cls_obs - noise_window[:,np.newaxis])/fsky[:,np.newaxis]\n",
    "else:\n",
    "    cls_obs = cls_obs/fsky[:,np.newaxis] - noise_window[:,np.newaxis]\n",
    "\n",
    "#store values\n",
    "#np.save(\"../dat/pCls/1000mocks/pCls_\" + expname + \".npy\", cls_obs)\n",
    "#np.save(\"../dat/pCls/1000mocks/noise_window_\" + expname + \".npy\", noise_window)\n",
    "#np.save(\"../dat/pCls/1000mocks/fsky_\" + expname + \".npy\", fsky)"
   ]
  },
  {
   "cell_type": "code",
   "execution_count": 7,
   "metadata": {},
   "outputs": [
    {
     "data": {
      "text/plain": [
       "[<matplotlib.lines.Line2D at 0x7fd849d76650>]"
      ]
     },
     "execution_count": 7,
     "metadata": {},
     "output_type": "execute_result"
    },
    {
     "data": {
      "image/png": "[encoded data removed]",
      "text/plain": [
       "<Figure size 576x396 with 1 Axes>"
      ]
     },
     "metadata": {
      "needs_background": "light"
     },
     "output_type": "display_data"
    }
   ],
   "source": [
    "plt.semilogx(cls_obs.mean(axis = 0)/cls_elg_th)"
   ]
  },
  {
   "cell_type": "code",
   "execution_count": 8,
   "metadata": {},
   "outputs": [
    {
     "data": {
      "text/plain": [
       "[<matplotlib.lines.Line2D at 0x7fd85bf0c490>]"
      ]
     },
     "execution_count": 8,
     "metadata": {},
     "output_type": "execute_result"
    },
    {
     "data": {
      "image/png": "[encoded data removed]",
      "text/plain": [
       "<Figure size 576x396 with 1 Axes>"
      ]
     },
     "metadata": {
      "needs_background": "light"
     },
     "output_type": "display_data"
    }
   ],
   "source": [
    "plt.loglog(cls_obs.mean(axis = 0))\n",
    "plt.loglog(cls_elg_th, c = 'k', ls = '--')"
   ]
  },
  {
   "cell_type": "code",
   "execution_count": 10,
   "metadata": {},
   "outputs": [
    {
     "name": "stdout",
     "output_type": "stream",
     "text": [
      "(1000,)\n",
      "(1000,)\n",
      "(1000, 3071)\n"
     ]
    }
   ],
   "source": [
    "print(fsky.shape)\n",
    "print(noise_window.shape)\n",
    "print(cls_obs.shape)"
   ]
  },
  {
   "cell_type": "code",
   "execution_count": null,
   "metadata": {},
   "outputs": [],
   "source": []
  }
 ],
 "metadata": {
  "kernelspec": {
   "display_name": "Python 3",
   "language": "python",
   "name": "python3"
  },
  "language_info": {
   "codemirror_mode": {
    "name": "ipython",
    "version": 3
   },
   "file_extension": ".py",
   "mimetype": "text/x-python",
   "name": "python",
   "nbconvert_exporter": "python",
   "pygments_lexer": "ipython3",
   "version": "3.7.4"
  }
 },
 "nbformat": 4,
 "nbformat_minor": 2
}
