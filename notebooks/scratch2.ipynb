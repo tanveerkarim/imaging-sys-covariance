{
 "cells": [
  {
   "cell_type": "markdown",
   "metadata": {},
   "source": [
    "Test whether experiments A and B are consistent with theory"
   ]
  },
  {
   "cell_type": "code",
   "execution_count": 1,
   "metadata": {},
   "outputs": [],
   "source": [
    "import numpy as np\n",
    "import matplotlib.pyplot as plt\n",
    "plt.style.use(\"ggplot\")\n",
    "\n",
    "import sys\n",
    "sys.path.insert(1, '../src/')\n",
    "from lib import *\n",
    "import params as pm"
   ]
  },
  {
   "cell_type": "code",
   "execution_count": 2,
   "metadata": {},
   "outputs": [
    {
     "name": "stderr",
     "output_type": "stream",
     "text": [
      "../src/lib.py:171: FutureWarning: Using a non-tuple sequence for multidimensional indexing is deprecated; use `arr[tuple(seq)]` instead of `arr[seq]`. In the future this will be interpreted as an array index, `arr[np.array(seq)]`, which will result either in an error or a different result.\n",
      "  mat_t=mat_r_dr[slc]\n"
     ]
    }
   ],
   "source": [
    "exp_names = np.array(['A', 'B'])\n",
    "experiments = {}\n",
    "\n",
    "#dict to store values\n",
    "for name in exp_names:\n",
    "    experiments[name] = {}\n",
    "\n",
    "#load cls from memory\n",
    "\n",
    "for key in experiments:\n",
    "    experiments[key]['cls_obs'] = np.load(\"../dat/pCls/1000mocks/pCls_\" + key + \".npy\")\n",
    "    experiments[key]['CLs_obs'] = np.zeros((pm.NMOCKS, pm.ELL.shape[0] - 1))\n",
    "    experiments[key]['pCLs_obs'] = np.zeros((pm.NMOCKS, pm.ELL.shape[0] - 1))\n",
    "    \n",
    "   #read in fsky and nl\n",
    "    experiments[key]['nl'] = np.load(\"../dat/pCls/1000mocks/noise_window_\" +key +\".npy\")\n",
    "    experiments[key]['fsky'] = np.load(\"../dat/pCls/1000mocks/fsky_\" +key +\".npy\")\n",
    "    \n",
    "#calculate pCls\n",
    "for key in ['A', 'B']:\n",
    "    #experiments[key]['pcls_obs'] = (experiments[key]['cls_obs'] * experiments[key]['fsky'][:,np.newaxis]) + \\\n",
    "    #experiments[key]['nl'][:,np.newaxis]\n",
    "    experiments[key]['pcls_obs'] = (experiments[key]['cls_obs'] * experiments[key]['fsky'][:,np.newaxis])\n",
    "    \n",
    "#bin power spectrum\n",
    "for key in experiments:\n",
    "    for i in range(pm.NMOCKS):\n",
    "        ELL_mid, experiments[key]['CLs_obs'][i] = bin_mat(pm.ell[:pm.NSIDE], \n",
    "                                                           experiments[key]['cls_obs'][i][:pm.NSIDE],\n",
    "                                                           pm.ELL) #Cls up to NSIDE is good \n",
    "        ELL_mid, experiments[key]['pCLs_obs'][i] = bin_mat(pm.ell[:pm.NSIDE], \n",
    "                                                           experiments[key]['pcls_obs'][i][:pm.NSIDE],\n",
    "                                                           pm.ELL) #Cls up to NSIDE is good "
   ]
  },
  {
   "cell_type": "code",
   "execution_count": 5,
   "metadata": {},
   "outputs": [],
   "source": [
    "pcl_B = np.load(\"../dat/pCls/th/pcl_th.npy\")\n",
    "cls_elg_th = np.load(\"../dat/cosmology_ini/gaussian_mocks/cl_th.npy\")"
   ]
  },
  {
   "cell_type": "code",
   "execution_count": 8,
   "metadata": {},
   "outputs": [
    {
     "ename": "LinAlgError",
     "evalue": "1-dimensional array given. Array must be at least two-dimensional",
     "output_type": "error",
     "traceback": [
      "\u001b[0;31m---------------------------------------------------------------------------\u001b[0m",
      "\u001b[0;31mLinAlgError\u001b[0m                               Traceback (most recent call last)",
      "\u001b[0;32m<ipython-input-8-0a052567b3ae>\u001b[0m in \u001b[0;36m<module>\u001b[0;34m\u001b[0m\n\u001b[0;32m----> 1\u001b[0;31m \u001b[0minvcls_th\u001b[0m \u001b[0;34m=\u001b[0m \u001b[0mnp\u001b[0m\u001b[0;34m.\u001b[0m\u001b[0mlinalg\u001b[0m\u001b[0;34m.\u001b[0m\u001b[0minv\u001b[0m\u001b[0;34m(\u001b[0m\u001b[0mcls_elg_th\u001b[0m\u001b[0;34m)\u001b[0m\u001b[0;34m\u001b[0m\u001b[0;34m\u001b[0m\u001b[0m\n\u001b[0m",
      "\u001b[0;32m<__array_function__ internals>\u001b[0m in \u001b[0;36minv\u001b[0;34m(*args, **kwargs)\u001b[0m\n",
      "\u001b[0;32m~/anaconda3/lib/python3.8/site-packages/numpy/linalg/linalg.py\u001b[0m in \u001b[0;36minv\u001b[0;34m(a)\u001b[0m\n\u001b[1;32m    539\u001b[0m     \"\"\"\n\u001b[1;32m    540\u001b[0m     \u001b[0ma\u001b[0m\u001b[0;34m,\u001b[0m \u001b[0mwrap\u001b[0m \u001b[0;34m=\u001b[0m \u001b[0m_makearray\u001b[0m\u001b[0;34m(\u001b[0m\u001b[0ma\u001b[0m\u001b[0;34m)\u001b[0m\u001b[0;34m\u001b[0m\u001b[0;34m\u001b[0m\u001b[0m\n\u001b[0;32m--> 541\u001b[0;31m     \u001b[0m_assert_stacked_2d\u001b[0m\u001b[0;34m(\u001b[0m\u001b[0ma\u001b[0m\u001b[0;34m)\u001b[0m\u001b[0;34m\u001b[0m\u001b[0;34m\u001b[0m\u001b[0m\n\u001b[0m\u001b[1;32m    542\u001b[0m     \u001b[0m_assert_stacked_square\u001b[0m\u001b[0;34m(\u001b[0m\u001b[0ma\u001b[0m\u001b[0;34m)\u001b[0m\u001b[0;34m\u001b[0m\u001b[0;34m\u001b[0m\u001b[0m\n\u001b[1;32m    543\u001b[0m     \u001b[0mt\u001b[0m\u001b[0;34m,\u001b[0m \u001b[0mresult_t\u001b[0m \u001b[0;34m=\u001b[0m \u001b[0m_commonType\u001b[0m\u001b[0;34m(\u001b[0m\u001b[0ma\u001b[0m\u001b[0;34m)\u001b[0m\u001b[0;34m\u001b[0m\u001b[0;34m\u001b[0m\u001b[0m\n",
      "\u001b[0;32m~/anaconda3/lib/python3.8/site-packages/numpy/linalg/linalg.py\u001b[0m in \u001b[0;36m_assert_stacked_2d\u001b[0;34m(*arrays)\u001b[0m\n\u001b[1;32m    204\u001b[0m     \u001b[0;32mfor\u001b[0m \u001b[0ma\u001b[0m \u001b[0;32min\u001b[0m \u001b[0marrays\u001b[0m\u001b[0;34m:\u001b[0m\u001b[0;34m\u001b[0m\u001b[0;34m\u001b[0m\u001b[0m\n\u001b[1;32m    205\u001b[0m         \u001b[0;32mif\u001b[0m \u001b[0ma\u001b[0m\u001b[0;34m.\u001b[0m\u001b[0mndim\u001b[0m \u001b[0;34m<\u001b[0m \u001b[0;36m2\u001b[0m\u001b[0;34m:\u001b[0m\u001b[0;34m\u001b[0m\u001b[0;34m\u001b[0m\u001b[0m\n\u001b[0;32m--> 206\u001b[0;31m             raise LinAlgError('%d-dimensional array given. Array must be '\n\u001b[0m\u001b[1;32m    207\u001b[0m                     'at least two-dimensional' % a.ndim)\n\u001b[1;32m    208\u001b[0m \u001b[0;34m\u001b[0m\u001b[0m\n",
      "\u001b[0;31mLinAlgError\u001b[0m: 1-dimensional array given. Array must be at least two-dimensional"
     ]
    }
   ],
   "source": [
    "invcls_th = np.linalg.inv(cls_elg_th)"
   ]
  },
  {
   "cell_type": "code",
   "execution_count": 4,
   "metadata": {},
   "outputs": [
    {
     "data": {
      "text/plain": [
       "(1000, 2048)"
      ]
     },
     "execution_count": 4,
     "metadata": {},
     "output_type": "execute_result"
    }
   ],
   "source": [
    "pcl_B.shape"
   ]
  },
  {
   "cell_type": "code",
   "execution_count": null,
   "metadata": {},
   "outputs": [],
   "source": []
  },
  {
   "cell_type": "code",
   "execution_count": null,
   "metadata": {},
   "outputs": [],
   "source": []
  },
  {
   "cell_type": "code",
   "execution_count": null,
   "metadata": {},
   "outputs": [],
   "source": []
  },
  {
   "cell_type": "markdown",
   "metadata": {},
   "source": [
    "# Test simple MCMC inference"
   ]
  },
  {
   "cell_type": "code",
   "execution_count": 89,
   "metadata": {},
   "outputs": [],
   "source": [
    "import zeus\n",
    "import matplotlib.pyplot as plt\n",
    "import emcee\n",
    "import numpy as np\n",
    "plt.style.use(\"ggplot\")"
   ]
  },
  {
   "cell_type": "code",
   "execution_count": 90,
   "metadata": {},
   "outputs": [],
   "source": [
    "# define the model function\n",
    "def straight_line(x, m, c):\n",
    "    ''' A straight line model: y = m*x + c '''\n",
    "    return m*x + c\n",
    "\n",
    "# set the true values of the model parameters for creating the data\n",
    "m_true = 3.5 # gradient of the line\n",
    "c_true = 1.2 # y-intercept of the line\n",
    "\n",
    "# Set the x-coordinates of the data points\n",
    "M = 70 # Number of data points\n",
    "x = np.sort(10.0 * np.random.rand(M)) # their x-coordinates"
   ]
  },
  {
   "cell_type": "code",
   "execution_count": 107,
   "metadata": {},
   "outputs": [],
   "source": [
    "# create the data - the model plus Gaussian noise\n",
    "sigma = 3.0 # standard deviation of the noise\n",
    "data = straight_line(x, m_true, c_true) + sigma * np.random.randn(M)"
   ]
  },
  {
   "cell_type": "code",
   "execution_count": 108,
   "metadata": {},
   "outputs": [
    {
     "data": {
      "image/png": "[encoded data removed]",
      "text/plain": [
       "<Figure size 648x432 with 1 Axes>"
      ]
     },
     "metadata": {},
     "output_type": "display_data"
    }
   ],
   "source": [
    "plt.figure(figsize=(9,6))\n",
    "plt.errorbar(x, data, yerr=sigma, fmt=\"o\", label='data')\n",
    "plt.plot(x, straight_line(x, m_true, c_true), '-', lw=2, label='model')\n",
    "plt.legend()\n",
    "plt.xlabel(r'$x$')\n",
    "plt.ylabel(r'$y$')\n",
    "plt.show()"
   ]
  },
  {
   "cell_type": "code",
   "execution_count": 109,
   "metadata": {},
   "outputs": [],
   "source": [
    "def loglike(theta, data, sigma, x):\n",
    "    '''The natural logarithm of the likelihood.'''\n",
    "\n",
    "    # unpack the model parameters\n",
    "    m, c = theta\n",
    "\n",
    "    # evaluate the model\n",
    "    md = straight_line(x, m, c)\n",
    "\n",
    "    # return the log likelihood\n",
    "    return -0.5 * np.sum(((md - data)/sigma)**2)"
   ]
  },
  {
   "cell_type": "code",
   "execution_count": null,
   "metadata": {},
   "outputs": [
    {
     "name": "stderr",
     "output_type": "stream",
     "text": [
      "Initialising ensemble of 10 walkers...\n",
      "Sampling progress :  61%|██████    | 3046/5000 [00:10<00:07, 275.50it/s]"
     ]
    }
   ],
   "source": [
    "ndim = 2 # Number of parameters/dimensions (e.g. m and c)\n",
    "nwalkers = 10 # Number of walkers to use. It should be at least twice the number of dimensions.\n",
    "nsteps = 5000 # Number of steps/iterations.\n",
    "\n",
    "start = np.array([m_true, c_true]) + np.random.randn(nwalkers, ndim) # Initial positions of the walkers.\n",
    "\n",
    "sampler = zeus.EnsembleSampler(nwalkers, ndim, loglike, args=[data, sigma, x]) # Initialise the sampler\n",
    "sampler.run_mcmc(start, nsteps) # Run sampling\n",
    "sampler.summary # Print summary diagnostics"
   ]
  },
  {
   "cell_type": "code",
   "execution_count": null,
   "metadata": {},
   "outputs": [],
   "source": [
    "# flatten the chains, thin them by a factor of 10, and remove the burn-in (first half of the chain)\n",
    "chain = sampler.get_chain(flat=True, discard=nsteps//2, thin=10)\n",
    "\n",
    "# plot marginal posterior distributions\n",
    "#fig, axes = zeus.cornerplot(chain, labels=['m', 'c'], truth=[m_true, c_true]);\n",
    "import corner\n",
    "figure = corner.corner(chain, labels=[r\"$m$\", r\"$c$\"],\n",
    "                       quantiles=[0.16, 0.5, 0.84],\n",
    "                       show_titles=True, title_kwargs={\"fontsize\": 12}, truths=[m_true, c_true])"
   ]
  },
  {
   "cell_type": "code",
   "execution_count": null,
   "metadata": {},
   "outputs": [],
   "source": [
    "sampler = emcee.EnsembleSampler(nwalkers, ndim, loglike, args=(data, sigma, x))\n",
    "sampler.run_mcmc(start, 5000, progress=True);"
   ]
  },
  {
   "cell_type": "code",
   "execution_count": null,
   "metadata": {},
   "outputs": [],
   "source": [
    "sampler.get_autocorr_time()"
   ]
  },
  {
   "cell_type": "code",
   "execution_count": null,
   "metadata": {},
   "outputs": [],
   "source": [
    "flat_samples = sampler.get_chain(discard=100, thin=15, flat=True)"
   ]
  },
  {
   "cell_type": "code",
   "execution_count": null,
   "metadata": {},
   "outputs": [],
   "source": [
    "figure = corner.corner(flat_samples, labels=[r\"$m$\", r\"$c$\"],\n",
    "                       quantiles=[0.16, 0.5, 0.84],\n",
    "                       show_titles=True, title_kwargs={\"fontsize\": 12}, truths=[m_true, c_true])"
   ]
  },
  {
   "cell_type": "markdown",
   "metadata": {},
   "source": [
    "## Consider with prior"
   ]
  },
  {
   "cell_type": "code",
   "execution_count": null,
   "metadata": {},
   "outputs": [],
   "source": [
    "def logprior(theta):\n",
    "    ''' The natural logarithm of the prior probability. '''\n",
    "\n",
    "    lp = 0.\n",
    "\n",
    "    # unpack the model parameters from the tuple\n",
    "    m, c = theta\n",
    "\n",
    "    # uniform prior on c\n",
    "    cmin = -10. # lower range of prior\n",
    "    cmax = 10.  # upper range of prior\n",
    "\n",
    "    # set prior to 1 (log prior to 0) if in the range and zero (-inf) outside the range\n",
    "    lp = 0. if cmin < c < cmax else -np.inf\n",
    "\n",
    "    # Gaussian prior on m\n",
    "    mmu = 3.     # mean of the Gaussian prior\n",
    "    msigma = 10. # standard deviation of the Gaussian prior\n",
    "    lp -= 0.5*((m - mmu)/msigma)**2\n",
    "\n",
    "    return lp"
   ]
  },
  {
   "cell_type": "code",
   "execution_count": null,
   "metadata": {},
   "outputs": [],
   "source": [
    "def logpost(theta, data, sigma, x):\n",
    "    '''The natural logarithm of the posterior.'''\n",
    "\n",
    "    return logprior(theta) + loglike(theta, data, sigma, x)"
   ]
  },
  {
   "cell_type": "code",
   "execution_count": null,
   "metadata": {},
   "outputs": [],
   "source": [
    "sampler = zeus.EnsembleSampler(nwalkers, ndim, logpost, args=[data, sigma, x]) # Initialise the sampler\n",
    "sampler.run_mcmc(start, nsteps) # Run sampling\n",
    "sampler.summary # Print summary diagnostics"
   ]
  },
  {
   "cell_type": "code",
   "execution_count": null,
   "metadata": {},
   "outputs": [],
   "source": [
    "# flatten the chains, thin them by a factor of 10, and remove the burn-in (first half of the chain)\n",
    "chain_bayes = sampler.get_chain(flat=True, discard=nsteps//2, thin=10)\n",
    "\n",
    "# plot marginal posterior distributions\n",
    "#fig, axes = zeus.cornerplot(chain, labels=['m', 'c'], truth=[m_true, c_true]);\n",
    "import corner\n",
    "figure = corner.corner(chain_bayes, labels=[r\"$m$\", r\"$c$\"],\n",
    "                       quantiles=[0.16, 0.5, 0.84],\n",
    "                       show_titles=True, title_kwargs={\"fontsize\": 12}, truths=[m_true, c_true])"
   ]
  },
  {
   "cell_type": "code",
   "execution_count": null,
   "metadata": {},
   "outputs": [],
   "source": [
    "sampler = emcee.EnsembleSampler(nwalkers, ndim, logpost, args=(data, sigma, x))\n",
    "sampler.run_mcmc(start, 5000, progress=True);"
   ]
  },
  {
   "cell_type": "code",
   "execution_count": null,
   "metadata": {},
   "outputs": [],
   "source": [
    "flat_samples_bayes = sampler.get_chain(discard=100, thin=15, flat=True)"
   ]
  },
  {
   "cell_type": "code",
   "execution_count": null,
   "metadata": {},
   "outputs": [],
   "source": [
    "figure = corner.corner(flat_samples_bayes, labels=[r\"$m$\", r\"$c$\"],\n",
    "                       quantiles=[0.16, 0.5, 0.84],\n",
    "                       show_titles=True, title_kwargs={\"fontsize\": 12}, truths=[m_true, c_true])"
   ]
  },
  {
   "cell_type": "markdown",
   "metadata": {},
   "source": [
    "Test with cosmology"
   ]
  },
  {
   "cell_type": "code",
   "execution_count": 60,
   "metadata": {},
   "outputs": [],
   "source": [
    "import sys\n",
    "sys.path.insert(1, '/home/tkarim/imaging-sys-covariance/src/')\n",
    "from lib import *\n",
    "import params as pm"
   ]
  },
  {
   "cell_type": "code",
   "execution_count": 62,
   "metadata": {},
   "outputs": [],
   "source": [
    "b1 = 1.75\n",
    "Omega_c = 0.3\n",
    "sigma8 = 0.8"
   ]
  },
  {
   "cell_type": "code",
   "execution_count": 86,
   "metadata": {},
   "outputs": [
    {
     "name": "stderr",
     "output_type": "stream",
     "text": [
      "/home/tkarim/imaging-sys-covariance/src/lib.py:171: FutureWarning: Using a non-tuple sequence for multidimensional indexing is deprecated; use `arr[tuple(seq)]` instead of `arr[seq]`. In the future this will be interpreted as an array index, `arr[np.array(seq)]`, which will result either in an error or a different result.\n",
      "  mat_t=mat_r_dr[slc]\n"
     ]
    }
   ],
   "source": [
    "theory_true = cgll(ell = pm.ell, bias = b1, Omega_c = Omega_c, \n",
    "         Omega_b = 0.0486, h = 0.6774, sigma8 = sigma8, n_s = 0.965, \n",
    "                   transfer_function = 'eisenstein_hu')\n",
    "_, theory_true_binned = bin_mat(pm.ell, theory_true, pm.ELL)\n",
    "cov_binned = np.cov(theory_true_binned)"
   ]
  },
  {
   "cell_type": "code",
   "execution_count": 88,
   "metadata": {},
   "outputs": [
    {
     "data": {
      "text/plain": [
       "array(1.04997132e-12)"
      ]
     },
     "execution_count": 88,
     "metadata": {},
     "output_type": "execute_result"
    }
   ],
   "source": [
    "cov_binned"
   ]
  },
  {
   "cell_type": "code",
   "execution_count": 68,
   "metadata": {},
   "outputs": [],
   "source": [
    "def loglike(theta, data_binned, cov_binned):\n",
    "    \"\"\"\n",
    "    Returns log likelihood \n",
    "    \n",
    "    Arguments:\n",
    "        theta (list) : list of parameters to be inferred; b1, Omega_c and A_s\n",
    "        data_binned (array) : observed pCls binned\n",
    "        cov_binned (matrix) : covariance matrix\n",
    "    \"\"\"\n",
    "    \n",
    "    theory = cgll(ell = pm.ell, bias = theta[0], Omega_c = theta[1], \n",
    "         Omega_b = 0.0486, h = 0.6774, sigma8 = theta[2], n_s = 0.965, transfer_function = 'eisenstein_hu')\n",
    "    _, theory_binned = bin_mat(pm.ell, theory, pm.ELL)\n",
    "    \n",
    "    diff = theory_binned - data_binned\n",
    "    \n",
    "    invCov_binned = np.linalg.inv(cov_binned)\n",
    "    \n",
    "    return -0.5 * (diff).T @ invCov_binned @ diff"
   ]
  },
  {
   "cell_type": "code",
   "execution_count": 69,
   "metadata": {},
   "outputs": [],
   "source": [
    "def cov_diag(ell, cl):\n",
    "    return 2*cl**2/((2+ell + 1))"
   ]
  },
  {
   "cell_type": "code",
   "execution_count": 77,
   "metadata": {},
   "outputs": [],
   "source": [
    "a = np.zeros((pm.ell.shape[0], pm.ell.shape[0]))\n",
    "np.fill_diagonal(a, cov_diag(pm.ell, theory))"
   ]
  },
  {
   "cell_type": "code",
   "execution_count": 79,
   "metadata": {},
   "outputs": [
    {
     "data": {
      "text/plain": [
       "array([1.13314660e-14, 6.91436543e-14, 1.42820034e-13, ...,\n",
       "       1.71297340e-17, 1.70670548e-17, 1.70046792e-17])"
      ]
     },
     "execution_count": 79,
     "metadata": {},
     "output_type": "execute_result"
    }
   ],
   "source": [
    "np.diag(a)"
   ]
  },
  {
   "cell_type": "code",
   "execution_count": 81,
   "metadata": {},
   "outputs": [
    {
     "data": {
      "text/plain": [
       "array([1.13314660e-14, 6.91436543e-14, 1.42820034e-13, ...,\n",
       "       1.71297340e-17, 1.70670548e-17, 1.70046792e-17])"
      ]
     },
     "execution_count": 81,
     "metadata": {},
     "output_type": "execute_result"
    }
   ],
   "source": [
    "cov_diag(pm.ell, theory)"
   ]
  },
  {
   "cell_type": "code",
   "execution_count": null,
   "metadata": {},
   "outputs": [],
   "source": []
  }
 ],
 "metadata": {
  "kernelspec": {
   "display_name": "Python 3",
   "language": "python",
   "name": "python3"
  },
  "language_info": {
   "codemirror_mode": {
    "name": "ipython",
    "version": 3
   },
   "file_extension": ".py",
   "mimetype": "text/x-python",
   "name": "python",
   "nbconvert_exporter": "python",
   "pygments_lexer": "ipython3",
   "version": "3.8.3"
  }
 },
 "nbformat": 4,
 "nbformat_minor": 4
}
