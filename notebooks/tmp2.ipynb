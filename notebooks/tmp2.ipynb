{
 "cells": [
  {
   "cell_type": "markdown",
   "metadata": {},
   "source": [
    "Test CLASS .pre file passing"
   ]
  },
  {
   "cell_type": "code",
   "execution_count": 1,
   "metadata": {},
   "outputs": [],
   "source": [
    "import numpy as np\n",
    "from classy import Class\n",
    "\n",
    "import asdf\n",
    "\n",
    "import matplotlib.pyplot as plt\n",
    "plt.style.use(\"ggplot\")"
   ]
  },
  {
   "cell_type": "code",
   "execution_count": 2,
   "metadata": {},
   "outputs": [],
   "source": [
    "#Parameters that are set once in AbacusSummit and will remain constant\n",
    "\n",
    "fid_file = '../dat/cosmology_ini/fid_rat_Pk_dPk_templates_0.asdf'\n",
    "\n",
    "with asdf.open(fid_file, lazy_load=False, copy_arrays=True) as f:\n",
    "            header = f['header']\n",
    "\n",
    "fid_params = {}\n",
    "for key in header.keys():\n",
    "    if key in ['ztmp0', 'ztmp1', 'ztmp2', 'ztmp3', 'ztmp4', 'ztmp5', 'ztmp6', 'theta_s_100', 'sigma8_cb', #nuisance\n",
    "              'omega_b', 'omega_cdm', 'h', 'A_s', 'n_s', 'alpha_s', 'N_ur', 'N_ncdm', 'omega_ncdm', \n",
    "              'w0_fld', 'wa_fld']:\n",
    "        pass\n",
    "    else:\n",
    "        fid_params[key] = header[key]\n",
    "        \n",
    "additional_params = {'output' : 'mPk, tCl, pCl, lCl',\n",
    "                    'lensing' : 'yes',\n",
    "                    'P_k_max_h/Mpc' : 50.0,\n",
    "                    'modes' : 's',\n",
    "                    'z_pk' : '0.0, 1.0, 3.0, 7.0, 49.0'}"
   ]
  },
  {
   "cell_type": "code",
   "execution_count": 7,
   "metadata": {},
   "outputs": [
    {
     "data": {
      "text/plain": [
       "[0.0, 0.0]"
      ]
     },
     "execution_count": 7,
     "metadata": {},
     "output_type": "execute_result"
    }
   ],
   "source": [
    "pop_list = ['Omega_Lambda', 'Omega_b', 'Omega_k']\n",
    "[fid_params.pop(key) for key in pop_list if key in fid_params]"
   ]
  },
  {
   "cell_type": "code",
   "execution_count": 3,
   "metadata": {},
   "outputs": [
    {
     "data": {
      "text/plain": [
       "{'Omega_Lambda': 0.0,\n",
       " 'Omega_dcdmdr': 0.0,\n",
       " 'Omega_idm_dr': 0.0,\n",
       " 'Omega_k': 0.0,\n",
       " 'Omega_scf': 0.0,\n",
       " 'P_k_ini type': 'analytic_Pk',\n",
       " 'T_cmb': 2.7255,\n",
       " 'YHe': 'BBN',\n",
       " 'annihilation': 0.0,\n",
       " 'background_verbose': 0.0,\n",
       " 'c_gamma_over_c_fld': 0.4,\n",
       " 'cs2_fld': 1.0,\n",
       " 'decay': 0.0,\n",
       " 'format': 'camb',\n",
       " 'gauge': 'synchronous',\n",
       " 'headers': 'yes',\n",
       " 'helium_fullreio_redshift': 3.5,\n",
       " 'helium_fullreio_width': 0.5,\n",
       " 'input_verbose': 0.0,\n",
       " 'k_pivot': 0.05,\n",
       " 'lensing_verbose': 0.0,\n",
       " 'nonlinear_verbose': 0.0,\n",
       " 'output_verbose': 0.0,\n",
       " 'perturbations_verbose': 0.0,\n",
       " 'primordial_verbose': 0.0,\n",
       " 'recombination': 'HyRec',\n",
       " 'reio_parametrization': 'reio_camb',\n",
       " 'reionization_exponent': 1.5,\n",
       " 'reionization_width': 0.5,\n",
       " 'spectra_verbose': 0.0,\n",
       " 'stat_f_idr': 0.875,\n",
       " 'tau_reio': 0.0544,\n",
       " 'thermodynamics_verbose': 0.0,\n",
       " 'transfer_verbose': 0.0,\n",
       " 'use_ppf': 'yes',\n",
       " 'write background': 'yes',\n",
       " 'write primordial': 'no',\n",
       " 'write thermodynamics': 'no'}"
      ]
     },
     "execution_count": 3,
     "metadata": {},
     "output_type": "execute_result"
    }
   ],
   "source": [
    "fid_params"
   ]
  },
  {
   "cell_type": "code",
   "execution_count": 4,
   "metadata": {},
   "outputs": [],
   "source": [
    "#Parameters that are varied in AbacusSummit\n",
    "cosmo_params = {'omega_b' : 0.02237,\n",
    "               'omega_cdm' : 0.12,\n",
    "               'h' : 0.6736,\n",
    "               'A_s' : 2.083e-09,\n",
    "               'n_s' : 0.9649,\n",
    "               'alpha_s' : 0.0,\n",
    "               'N_ur' : 2.0328,\n",
    "               'N_ncdm' : 1.0,\n",
    "               'omega_ncdm' : 0.0006442,\n",
    "               'w0_fld' : -1.0,\n",
    "               'wa_fld' : 0.0}"
   ]
  },
  {
   "cell_type": "code",
   "execution_count": 5,
   "metadata": {},
   "outputs": [],
   "source": [
    "#merge parametrs into one dict\n",
    "full_params = cosmo_params.copy()\n",
    "full_params.update(fid_params)\n",
    "full_params.update(additional_params)"
   ]
  },
  {
   "cell_type": "code",
   "execution_count": null,
   "metadata": {},
   "outputs": [],
   "source": []
  },
  {
   "cell_type": "code",
   "execution_count": null,
   "metadata": {},
   "outputs": [],
   "source": []
  },
  {
   "cell_type": "code",
   "execution_count": null,
   "metadata": {},
   "outputs": [],
   "source": []
  },
  {
   "cell_type": "code",
   "execution_count": null,
   "metadata": {},
   "outputs": [],
   "source": []
  },
  {
   "cell_type": "code",
   "execution_count": null,
   "metadata": {},
   "outputs": [],
   "source": []
  },
  {
   "cell_type": "code",
   "execution_count": 6,
   "metadata": {},
   "outputs": [],
   "source": [
    "# Create an instance of the CLASS wrapper\n",
    "cosmo_full = Class()\n",
    "\n",
    "# Set the parameters to the cosmological code\n",
    "cosmo_full.set(full_params)\n",
    "\n",
    "# Run the whole code. Depending on your output, it will call the\n",
    "# CLASS modules more or less fast. For instance, without any\n",
    "# output asked, CLASS will only compute background quantities,\n",
    "# thus running almost instantaneously.\n",
    "# This is equivalent to the beginning of the `main` routine of CLASS,\n",
    "# with all the struct_init() methods called.\n",
    "cosmo_full.compute()\n",
    "\n",
    "# Access the lensed cl until l=2000\n",
    "cls_full = cosmo_full.lensed_cl(1040)\n",
    "\n",
    "# Print on screen to see the output\n",
    "#print(cls)\n",
    "# It is a dictionnary that contains the fields: tt, te, ee, bb, pp, tp\n",
    "\n",
    "# plot something with matplotlib...\n",
    "\n",
    "# Clean CLASS (the equivalent of the struct_free() in the `main`\n",
    "# of CLASS. This step is primordial when running in a loop over different\n",
    "# cosmologies, as you will saturate your memory very fast if you ommit\n",
    "# it.\n",
    "#cosmo.struct_cleanup()\n",
    "\n",
    "ell = cls_full['ell']\n",
    "factor = 1.e10*ell*(ell+1.)/2./np.pi"
   ]
  },
  {
   "cell_type": "code",
   "execution_count": 21,
   "metadata": {},
   "outputs": [
    {
     "data": {
      "text/plain": [
       "32.06487358150846"
      ]
     },
     "execution_count": 21,
     "metadata": {},
     "output_type": "execute_result"
    }
   ],
   "source": [
    "cosmo_full.pk(1, 1)"
   ]
  },
  {
   "cell_type": "code",
   "execution_count": 15,
   "metadata": {},
   "outputs": [
    {
     "data": {
      "text/plain": [
       "{'tt': array([0.00000000e+00, 0.00000000e+00, 1.43005670e-10, ...,\n",
       "        8.32882543e-16, 8.32717651e-16, 8.32603333e-16]),\n",
       " 'ee': array([0.00000000e+00, 0.00000000e+00, 4.35267072e-15, ...,\n",
       "        2.82775616e-17, 2.80410019e-17, 2.78029316e-17]),\n",
       " 'te': array([ 0.00000000e+00,  0.00000000e+00,  3.68517193e-13, ...,\n",
       "        -5.13105462e-17, -5.18063705e-17, -5.22838786e-17]),\n",
       " 'bb': array([0.00000000e+00, 0.00000000e+00, 2.32271895e-19, ...,\n",
       "        6.89686216e-20, 6.88478548e-20, 6.87280614e-20]),\n",
       " 'pp': array([0.00000000e+00, 0.00000000e+00, 8.43888680e-09, ...,\n",
       "        2.77916667e-20, 2.76342521e-20, 2.74778657e-20]),\n",
       " 'tp': array([0.00000000e+00, 0.00000000e+00, 4.64426529e-10, ...,\n",
       "        1.84095067e-21, 1.77586392e-21, 1.71177924e-21]),\n",
       " 'ell': array([   0,    1,    2, ..., 1038, 1039, 1040])}"
      ]
     },
     "execution_count": 15,
     "metadata": {},
     "output_type": "execute_result"
    }
   ],
   "source": [
    "cls_full"
   ]
  },
  {
   "cell_type": "code",
   "execution_count": 7,
   "metadata": {},
   "outputs": [
    {
     "data": {
      "text/plain": [
       "[<matplotlib.lines.Line2D at 0x7ff90361d1c0>]"
      ]
     },
     "execution_count": 7,
     "metadata": {},
     "output_type": "execute_result"
    },
    {
     "data": {
      "image/png": "[encoded data removed]",
      "text/plain": [
       "<Figure size 432x288 with 1 Axes>"
      ]
     },
     "metadata": {},
     "output_type": "display_data"
    }
   ],
   "source": [
    "plt.loglog(ell, factor * cls_full['tt'])"
   ]
  },
  {
   "cell_type": "code",
   "execution_count": null,
   "metadata": {},
   "outputs": [],
   "source": []
  },
  {
   "cell_type": "code",
   "execution_count": null,
   "metadata": {},
   "outputs": [],
   "source": []
  },
  {
   "cell_type": "code",
   "execution_count": 3,
   "metadata": {},
   "outputs": [],
   "source": [
    "#############################################\n",
    "#\n",
    "# Cosmological parameters and other CLASS parameters\n",
    "#\n",
    "common_settings = {# LambdaCDM parameters\n",
    "                   'h':0.67810,\n",
    "                   'omega_b':0.02238280,\n",
    "                   'omega_cdm':0.1201075,\n",
    "                   'A_s':2.100549e-09,\n",
    "                   'n_s':0.9660499,\n",
    "                   'tau_reio':0.05430842 ,\n",
    "                   # output and precision parameters\n",
    "                   'output':'tCl,pCl,lCl',\n",
    "                   'lensing':'yes',\n",
    "                   'l_max_scalars':5000}\n",
    "#\n",
    "M = Class()\n",
    "#\n",
    "###############\n",
    "#    \n",
    "# call CLASS for the total Cl's and then for each contribution\n",
    "#\n",
    "###############\n",
    "#\n",
    "M.set(common_settings)\n",
    "M.compute()\n",
    "cl_tot = M.raw_cl(3000)\n",
    "cl_lensed = M.lensed_cl(3000)\n",
    "M.empty()           # reset input"
   ]
  },
  {
   "cell_type": "code",
   "execution_count": 4,
   "metadata": {},
   "outputs": [],
   "source": [
    "\n",
    "\n",
    "# modules and settings for the plot\n",
    "#\n",
    "# uncomment to get plots displayed in notebook\n",
    "%matplotlib inline\n",
    "import matplotlib\n",
    "import matplotlib.pyplot as plt\n",
    "# esthetic definitions for the plots\n",
    "font = {'size'   : 16, 'family':'STIXGeneral'}\n",
    "axislabelfontsize='large'\n",
    "matplotlib.rc('font', **font)\n",
    "matplotlib.mathtext.rcParams['legend.fontsize']='medium'\n",
    "plt.rcParams[\"figure.figsize\"] = [8.0,6.0]\n",
    "\n"
   ]
  },
  {
   "cell_type": "code",
   "execution_count": 12,
   "metadata": {},
   "outputs": [
    {
     "data": {
      "text/plain": [
       "<matplotlib.legend.Legend at 0x7fcec0485430>"
      ]
     },
     "execution_count": 12,
     "metadata": {},
     "output_type": "execute_result"
    },
    {
     "data": {
      "image/png": "[encoded data removed]",
      "text/plain": [
       "<Figure size 576x432 with 1 Axes>"
      ]
     },
     "metadata": {
      "needs_background": "light"
     },
     "output_type": "display_data"
    }
   ],
   "source": [
    "\n",
    "\n",
    "#################\n",
    "#\n",
    "# start plotting\n",
    "#\n",
    "#################\n",
    "#\n",
    "plt.xlim([2,3000])\n",
    "plt.xlabel(r\"$\\ell$\")\n",
    "plt.ylabel(r\"$\\ell (\\ell+1) C_l^{TT} / 2 \\pi \\,\\,\\, [\\times 10^{10}]$\")\n",
    "plt.grid()\n",
    "#\n",
    "ell = cl_tot['ell']\n",
    "factor = 1.e10*ell*(ell+1.)/2./np.pi\n",
    "#plt.semilogx(ell,factor*cl_tsw['tt'],'c-',label=r'$\\mathrm{T+SW}$')\n",
    "#plt.semilogx(ell,factor*cl_eisw['tt'],'r-',label=r'$\\mathrm{early-ISW}$')\n",
    "#plt.semilogx(ell,factor*cl_lisw['tt'],'y-',label=r'$\\mathrm{late-ISW}$')\n",
    "#plt.semilogx(ell,factor*cl_dop['tt'],'g-',label=r'$\\mathrm{Doppler}$')\n",
    "#plt.semilogx(ell,factor*cl_tot['tt'],'r-',label=r'$\\mathrm{total}$')\n",
    "plt.semilogx(ell,factor*cl_lensed['tt'],'k-',label=r'$\\mathrm{lensed}$')\n",
    "#\n",
    "plt.legend(loc='right',bbox_to_anchor=(1.4, 0.5))\n",
    "\n"
   ]
  },
  {
   "cell_type": "code",
   "execution_count": null,
   "metadata": {},
   "outputs": [],
   "source": []
  },
  {
   "cell_type": "code",
   "execution_count": null,
   "metadata": {},
   "outputs": [],
   "source": []
  },
  {
   "cell_type": "code",
   "execution_count": null,
   "metadata": {},
   "outputs": [],
   "source": []
  },
  {
   "cell_type": "code",
   "execution_count": 8,
   "metadata": {},
   "outputs": [],
   "source": []
  },
  {
   "cell_type": "code",
   "execution_count": 9,
   "metadata": {},
   "outputs": [],
   "source": []
  },
  {
   "cell_type": "code",
   "execution_count": null,
   "metadata": {},
   "outputs": [],
   "source": []
  },
  {
   "cell_type": "code",
   "execution_count": 8,
   "metadata": {},
   "outputs": [],
   "source": [
    "import pyccl as ccl\n",
    "h = 0.6736\n",
    "Omega_c = 0.12/h**2\n",
    "Omega_b = 0.02237/h**2\n",
    "A_s = 2.083e-09\n",
    "n_s = 0.9649\n",
    "cosmo = ccl.Cosmology(Omega_c = Omega_c, Omega_b = Omega_b, h = h, A_s = A_s, n_s = n_s)"
   ]
  },
  {
   "cell_type": "code",
   "execution_count": 9,
   "metadata": {},
   "outputs": [],
   "source": [
    "#calculate theoretical Cls\n",
    "lmax = 1500\n",
    "ell = np.arange(0, lmax, 1) #lmax = 1500\n",
    "cmbl = ccl.CMBLensingTracer(cosmo, z_source=1090.)\n",
    "cls_cmb = ccl.angular_cl(cosmo, cmbl, cmbl, ell)"
   ]
  },
  {
   "cell_type": "code",
   "execution_count": 13,
   "metadata": {},
   "outputs": [
    {
     "data": {
      "text/plain": [
       "[<matplotlib.lines.Line2D at 0x7ff888395580>]"
      ]
     },
     "execution_count": 13,
     "metadata": {},
     "output_type": "execute_result"
    },
    {
     "data": {
      "image/png": "[encoded data removed]",
      "text/plain": [
       "<Figure size 504x288 with 1 Axes>"
      ]
     },
     "metadata": {},
     "output_type": "display_data"
    }
   ],
   "source": [
    "fs = 15\n",
    "plt.figure(figsize = (7,4))\n",
    "plt.xlabel('$l$',fontsize=fs)\n",
    "plt.ylabel('$C^{\\kappa \\kappa}_{l}$',fontsize=fs)\n",
    "plt.xticks(fontsize=14)\n",
    "plt.yticks(fontsize=14)\n",
    "plt.yscale('log')\n",
    "plt.xscale('log')\n",
    "plt.plot(ell, cls_cmb, 'r-')"
   ]
  },
  {
   "cell_type": "code",
   "execution_count": 22,
   "metadata": {},
   "outputs": [
    {
     "name": "stdout",
     "output_type": "stream",
     "text": [
      "The original dictionary is : {'Gfg': 1, 'is': 2, 'best': 3, 'for': 4, 'CS': 5}\n",
      "Dictionary after removal of keys : {'Gfg': 1, 'best': 3}\n"
     ]
    }
   ],
   "source": [
    "# Python3 code to demonstrate working of\n",
    "# Remove multiple keys from dictionary\n",
    "# Using pop() + list comprehension\n",
    "  \n",
    "# initializing dictionary\n",
    "test_dict = {'Gfg' : 1, 'is' : 2, 'best' : 3, 'for' : 4, 'CS' : 5}\n",
    "  \n",
    "# initializing Remove keys\n",
    "rem_list = ['is', 'for', 'CS']\n",
    "  \n",
    "# printing original dictionary\n",
    "print(\"The original dictionary is : \" + str(test_dict))\n",
    "  \n",
    "# Using pop() + list comprehension\n",
    "# Remove multiple keys from dictionary\n",
    "[test_dict.pop(key) for key in rem_list]\n",
    "  \n",
    "# printing result \n",
    "print(\"Dictionary after removal of keys : \" + str(test_dict))"
   ]
  },
  {
   "cell_type": "code",
   "execution_count": 23,
   "metadata": {},
   "outputs": [
    {
     "data": {
      "text/plain": [
       "{'Gfg': 1, 'best': 3}"
      ]
     },
     "execution_count": 23,
     "metadata": {},
     "output_type": "execute_result"
    }
   ],
   "source": [
    "test_dict"
   ]
  },
  {
   "cell_type": "code",
   "execution_count": 25,
   "metadata": {},
   "outputs": [
    {
     "name": "stdout",
     "output_type": "stream",
     "text": [
      "nok\n"
     ]
    }
   ],
   "source": [
    "if 'Gg' in test_dict:\n",
    "    print('ok')\n",
    "else:\n",
    "    print('nok')"
   ]
  },
  {
   "cell_type": "code",
   "execution_count": null,
   "metadata": {},
   "outputs": [],
   "source": []
  },
  {
   "cell_type": "code",
   "execution_count": null,
   "metadata": {},
   "outputs": [],
   "source": []
  },
  {
   "cell_type": "code",
   "execution_count": null,
   "metadata": {},
   "outputs": [],
   "source": []
  },
  {
   "cell_type": "code",
   "execution_count": null,
   "metadata": {},
   "outputs": [],
   "source": []
  },
  {
   "cell_type": "markdown",
   "metadata": {},
   "source": [
    "Check astropy cosmo"
   ]
  },
  {
   "cell_type": "code",
   "execution_count": 8,
   "metadata": {},
   "outputs": [],
   "source": [
    "from astropy.cosmology import FlatLambdaCDM\n",
    "from astropy import units as u"
   ]
  },
  {
   "cell_type": "code",
   "execution_count": 14,
   "metadata": {},
   "outputs": [],
   "source": [
    "flatcosmo = FlatLambdaCDM(H0 = 67., Om0=0.3, Tcmb0=2.7, \n",
    "                          m_nu=(np.array([0, 0, 0.06]) * u.eV).to(u.eV, equivalencies=u.mass_energy()), \n",
    "                          Ob0=0.04)"
   ]
  },
  {
   "cell_type": "code",
   "execution_count": 21,
   "metadata": {},
   "outputs": [
    {
     "data": {
      "text/plain": [
       "0.0014773651585881563"
      ]
     },
     "execution_count": 21,
     "metadata": {},
     "output_type": "execute_result"
    }
   ],
   "source": [
    "flatcosmo.Ogamma0 + flatcosmo.Onu0"
   ]
  },
  {
   "cell_type": "markdown",
   "metadata": {},
   "source": [
    "Fixing up Skylens"
   ]
  },
  {
   "cell_type": "code",
   "execution_count": 33,
   "metadata": {},
   "outputs": [],
   "source": [
    "from astropy.cosmology import FLRW as cosmo\n",
    "from astropy.cosmology import FlatLambdaCDM as cosmo_flat\n",
    "from astropy.cosmology import Planck15 as planck15\n",
    "from astropy import units as u"
   ]
  },
  {
   "cell_type": "code",
   "execution_count": 35,
   "metadata": {},
   "outputs": [
    {
     "data": {
      "text/plain": [
       "0.6774"
      ]
     },
     "execution_count": 35,
     "metadata": {},
     "output_type": "execute_result"
    }
   ],
   "source": [
    "planck15.h"
   ]
  },
  {
   "cell_type": "code",
   "execution_count": null,
   "metadata": {},
   "outputs": [],
   "source": [
    "planck15.Neff"
   ]
  },
  {
   "cell_type": "code",
   "execution_count": 24,
   "metadata": {},
   "outputs": [
    {
     "data": {
      "text/plain": [
       "0.6985226348414117"
      ]
     },
     "execution_count": 24,
     "metadata": {},
     "output_type": "execute_result"
    }
   ],
   "source": [
    "flatcosmo = FlatLambdaCDM(H0 = 67., Om0=0.3, Tcmb0=2.7, \n",
    "                          m_nu=(np.array([0, 0, 0.06]) * u.eV).to(u.eV, equivalencies=u.mass_energy()), \n",
    "                          Ob0=0.04)\n",
    "flatcosmo.Ode0"
   ]
  },
  {
   "cell_type": "code",
   "execution_count": null,
   "metadata": {},
   "outputs": [],
   "source": [
    "cosmo_full = cosmo(H0=67)"
   ]
  },
  {
   "cell_type": "code",
   "execution_count": null,
   "metadata": {},
   "outputs": [],
   "source": [
    "import numpy as np\n",
    "#from galsim.integ import int1d\n",
    "from scipy.integrate import quad as scipy_int1d\n",
    "import warnings\n",
    "from astropy.cosmology import FlatLambdaCDM as cosmo\n",
    "cosmo_h=cosmo.clone(H0=100)\n",
    "cosmo_planck15=cosmo\n",
    "\n",
    "from astropy.constants import c,G\n",
    "from astropy import units as u\n",
    "\n",
    "c=c.to(u.km/u.second)\n",
    "G2=G.to(u.Mpc/u.Msun*u.km**2/u.second**2)\n",
    "H100=100*(u.km/u.second/u.Mpc)\n",
    "\n",
    "c_unit=c.unit\n",
    "G2_unit=G2.unit\n",
    "H0_unit=H100.unit\n",
    "c=c.value\n",
    "G2=G2.value\n",
    "H100=H100.value\n"
   ]
  }
 ],
 "metadata": {
  "kernelspec": {
   "display_name": "Python 3",
   "language": "python",
   "name": "python3"
  },
  "language_info": {
   "codemirror_mode": {
    "name": "ipython",
    "version": 3
   },
   "file_extension": ".py",
   "mimetype": "text/x-python",
   "name": "python",
   "nbconvert_exporter": "python",
   "pygments_lexer": "ipython3",
   "version": "3.8.3"
  }
 },
 "nbformat": 4,
 "nbformat_minor": 4
}
